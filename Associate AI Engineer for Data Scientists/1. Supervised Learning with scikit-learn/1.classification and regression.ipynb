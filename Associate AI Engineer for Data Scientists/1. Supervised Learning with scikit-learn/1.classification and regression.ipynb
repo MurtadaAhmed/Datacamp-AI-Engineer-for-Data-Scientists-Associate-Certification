{
 "cells": [
  {
   "metadata": {},
   "cell_type": "markdown",
   "source": [
    "# Classification\n",
    "install scikit learn: pip install scikit-learn\n",
    "\n",
    "install pandas: pip install pandas\n",
    "\n",
    "\n"
   ],
   "id": "688fb04ddfc65409"
  },
  {
   "metadata": {},
   "cell_type": "code",
   "outputs": [],
   "execution_count": null,
   "source": [
    "from scipy.ndimage import label\n",
    "from sklearn.module import Model # module/Model are just place holders here for the actual name of the model\n",
    "model = Model()\n",
    "model.fit(X, y) # X is array of our features, y is array of out target  variable\n",
    "prediction = model.predict(X_new)"
   ],
   "id": "44cfda032265b374"
  },
  {
   "metadata": {
    "ExecuteTime": {
     "end_time": "2025-03-16T06:36:23.054578Z",
     "start_time": "2025-03-16T06:36:23.027432Z"
    }
   },
   "cell_type": "code",
   "source": [
    "import pandas as pd\n",
    "dataset = \"datasets/telecom_churn_clean.csv\"\n",
    "churn_df = pd.read_csv(dataset)\n",
    "churn_df.head()"
   ],
   "id": "81a85edd0292b52f",
   "outputs": [
    {
     "data": {
      "text/plain": [
       "   Unnamed: 0  account_length  area_code  international_plan  voice_mail_plan  \\\n",
       "0           0             128        415                   0                1   \n",
       "1           1             107        415                   0                1   \n",
       "2           2             137        415                   0                0   \n",
       "3           3              84        408                   1                0   \n",
       "4           4              75        415                   1                0   \n",
       "\n",
       "   number_vmail_messages  total_day_minutes  total_day_calls  \\\n",
       "0                     25              265.1              110   \n",
       "1                     26              161.6              123   \n",
       "2                      0              243.4              114   \n",
       "3                      0              299.4               71   \n",
       "4                      0              166.7              113   \n",
       "\n",
       "   total_day_charge  total_eve_minutes  total_eve_calls  total_eve_charge  \\\n",
       "0             45.07              197.4               99             16.78   \n",
       "1             27.47              195.5              103             16.62   \n",
       "2             41.38              121.2              110             10.30   \n",
       "3             50.90               61.9               88              5.26   \n",
       "4             28.34              148.3              122             12.61   \n",
       "\n",
       "   total_night_minutes  total_night_calls  total_night_charge  \\\n",
       "0                244.7                 91               11.01   \n",
       "1                254.4                103               11.45   \n",
       "2                162.6                104                7.32   \n",
       "3                196.9                 89                8.86   \n",
       "4                186.9                121                8.41   \n",
       "\n",
       "   total_intl_minutes  total_intl_calls  total_intl_charge  \\\n",
       "0                10.0                 3               2.70   \n",
       "1                13.7                 3               3.70   \n",
       "2                12.2                 5               3.29   \n",
       "3                 6.6                 7               1.78   \n",
       "4                10.1                 3               2.73   \n",
       "\n",
       "   customer_service_calls  churn  \n",
       "0                       1      0  \n",
       "1                       1      0  \n",
       "2                       0      0  \n",
       "3                       2      0  \n",
       "4                       3      0  "
      ],
      "text/html": [
       "<div>\n",
       "<style scoped>\n",
       "    .dataframe tbody tr th:only-of-type {\n",
       "        vertical-align: middle;\n",
       "    }\n",
       "\n",
       "    .dataframe tbody tr th {\n",
       "        vertical-align: top;\n",
       "    }\n",
       "\n",
       "    .dataframe thead th {\n",
       "        text-align: right;\n",
       "    }\n",
       "</style>\n",
       "<table border=\"1\" class=\"dataframe\">\n",
       "  <thead>\n",
       "    <tr style=\"text-align: right;\">\n",
       "      <th></th>\n",
       "      <th>Unnamed: 0</th>\n",
       "      <th>account_length</th>\n",
       "      <th>area_code</th>\n",
       "      <th>international_plan</th>\n",
       "      <th>voice_mail_plan</th>\n",
       "      <th>number_vmail_messages</th>\n",
       "      <th>total_day_minutes</th>\n",
       "      <th>total_day_calls</th>\n",
       "      <th>total_day_charge</th>\n",
       "      <th>total_eve_minutes</th>\n",
       "      <th>total_eve_calls</th>\n",
       "      <th>total_eve_charge</th>\n",
       "      <th>total_night_minutes</th>\n",
       "      <th>total_night_calls</th>\n",
       "      <th>total_night_charge</th>\n",
       "      <th>total_intl_minutes</th>\n",
       "      <th>total_intl_calls</th>\n",
       "      <th>total_intl_charge</th>\n",
       "      <th>customer_service_calls</th>\n",
       "      <th>churn</th>\n",
       "    </tr>\n",
       "  </thead>\n",
       "  <tbody>\n",
       "    <tr>\n",
       "      <th>0</th>\n",
       "      <td>0</td>\n",
       "      <td>128</td>\n",
       "      <td>415</td>\n",
       "      <td>0</td>\n",
       "      <td>1</td>\n",
       "      <td>25</td>\n",
       "      <td>265.1</td>\n",
       "      <td>110</td>\n",
       "      <td>45.07</td>\n",
       "      <td>197.4</td>\n",
       "      <td>99</td>\n",
       "      <td>16.78</td>\n",
       "      <td>244.7</td>\n",
       "      <td>91</td>\n",
       "      <td>11.01</td>\n",
       "      <td>10.0</td>\n",
       "      <td>3</td>\n",
       "      <td>2.70</td>\n",
       "      <td>1</td>\n",
       "      <td>0</td>\n",
       "    </tr>\n",
       "    <tr>\n",
       "      <th>1</th>\n",
       "      <td>1</td>\n",
       "      <td>107</td>\n",
       "      <td>415</td>\n",
       "      <td>0</td>\n",
       "      <td>1</td>\n",
       "      <td>26</td>\n",
       "      <td>161.6</td>\n",
       "      <td>123</td>\n",
       "      <td>27.47</td>\n",
       "      <td>195.5</td>\n",
       "      <td>103</td>\n",
       "      <td>16.62</td>\n",
       "      <td>254.4</td>\n",
       "      <td>103</td>\n",
       "      <td>11.45</td>\n",
       "      <td>13.7</td>\n",
       "      <td>3</td>\n",
       "      <td>3.70</td>\n",
       "      <td>1</td>\n",
       "      <td>0</td>\n",
       "    </tr>\n",
       "    <tr>\n",
       "      <th>2</th>\n",
       "      <td>2</td>\n",
       "      <td>137</td>\n",
       "      <td>415</td>\n",
       "      <td>0</td>\n",
       "      <td>0</td>\n",
       "      <td>0</td>\n",
       "      <td>243.4</td>\n",
       "      <td>114</td>\n",
       "      <td>41.38</td>\n",
       "      <td>121.2</td>\n",
       "      <td>110</td>\n",
       "      <td>10.30</td>\n",
       "      <td>162.6</td>\n",
       "      <td>104</td>\n",
       "      <td>7.32</td>\n",
       "      <td>12.2</td>\n",
       "      <td>5</td>\n",
       "      <td>3.29</td>\n",
       "      <td>0</td>\n",
       "      <td>0</td>\n",
       "    </tr>\n",
       "    <tr>\n",
       "      <th>3</th>\n",
       "      <td>3</td>\n",
       "      <td>84</td>\n",
       "      <td>408</td>\n",
       "      <td>1</td>\n",
       "      <td>0</td>\n",
       "      <td>0</td>\n",
       "      <td>299.4</td>\n",
       "      <td>71</td>\n",
       "      <td>50.90</td>\n",
       "      <td>61.9</td>\n",
       "      <td>88</td>\n",
       "      <td>5.26</td>\n",
       "      <td>196.9</td>\n",
       "      <td>89</td>\n",
       "      <td>8.86</td>\n",
       "      <td>6.6</td>\n",
       "      <td>7</td>\n",
       "      <td>1.78</td>\n",
       "      <td>2</td>\n",
       "      <td>0</td>\n",
       "    </tr>\n",
       "    <tr>\n",
       "      <th>4</th>\n",
       "      <td>4</td>\n",
       "      <td>75</td>\n",
       "      <td>415</td>\n",
       "      <td>1</td>\n",
       "      <td>0</td>\n",
       "      <td>0</td>\n",
       "      <td>166.7</td>\n",
       "      <td>113</td>\n",
       "      <td>28.34</td>\n",
       "      <td>148.3</td>\n",
       "      <td>122</td>\n",
       "      <td>12.61</td>\n",
       "      <td>186.9</td>\n",
       "      <td>121</td>\n",
       "      <td>8.41</td>\n",
       "      <td>10.1</td>\n",
       "      <td>3</td>\n",
       "      <td>2.73</td>\n",
       "      <td>3</td>\n",
       "      <td>0</td>\n",
       "    </tr>\n",
       "  </tbody>\n",
       "</table>\n",
       "</div>"
      ]
     },
     "execution_count": 2,
     "metadata": {},
     "output_type": "execute_result"
    }
   ],
   "execution_count": 2
  },
  {
   "metadata": {
    "ExecuteTime": {
     "end_time": "2025-03-16T06:51:13.032188Z",
     "start_time": "2025-03-16T06:51:13.016212Z"
    }
   },
   "cell_type": "code",
   "source": [
    "# k-Nearest Neighbors\n",
    "from sklearn.neighbors import KNeighborsClassifier\n",
    "import numpy as np\n",
    "dataset = \"datasets/telecom_churn_clean.csv\"\n",
    "churn_df = pd.read_csv(dataset)\n",
    "X = churn_df[[\"total_day_charge\", \"total_eve_charge\"]].values # return DataFrame (two-dimensional)\n",
    "y = churn_df[\"churn\"].values # return series # return Series (one-dimensional)\n",
    "print(f\"X shape: {X.shape}, y shape: {y.shape}\")\n",
    "\n",
    "knn = KNeighborsClassifier(n_neighbors=15)\n",
    "\n",
    "knn.fit(X, y)\n",
    "\n",
    "X_new = np.array([[56.8, 17.5],\n",
    "                  [24.4, 24.1],\n",
    "                  [50.1, 10.9]])\n",
    "\n",
    "predictions = knn.predict(X_new)\n",
    "print(f\"Predictions {predictions}\")"
   ],
   "id": "9a9ca4a886d38791",
   "outputs": [
    {
     "name": "stdout",
     "output_type": "stream",
     "text": [
      "X shape: (3333, 2), y shape: (3333,)\n",
      "Predictions [1 0 0]\n"
     ]
    }
   ],
   "execution_count": 12
  },
  {
   "metadata": {},
   "cell_type": "markdown",
   "source": [
    "# measuring model performance\n",
    "## Accuracy = correct predictions / total observations\n",
    "The data should be split into training set and test set\n",
    "The training set is used to fit/train\n",
    "The training set is used to calculate the model accuracy\n"
   ],
   "id": "513528aaadfcbf99"
  },
  {
   "metadata": {
    "ExecuteTime": {
     "end_time": "2025-03-16T07:06:36.931377Z",
     "start_time": "2025-03-16T07:06:36.871929Z"
    }
   },
   "cell_type": "code",
   "source": [
    "from sklearn.model_selection import train_test_split\n",
    "from sklearn.neighbors import KNeighborsClassifier\n",
    "import numpy as np\n",
    "\n",
    "dataset = \"datasets/telecom_churn_clean.csv\"\n",
    "churn_df = pd.read_csv(dataset)\n",
    "\n",
    "X = churn_df[[\"total_day_charge\", \"total_eve_charge\"]].values\n",
    "y = churn_df[\"churn\"].values\n",
    "\n",
    "# test_size=0.3 >> means 30% of the data is used for testing, 70% of the data is used for training\n",
    "# random_state=21 >> any random number we can put here.  this ensures the dataset split the same way every time we run the code so the results are reproducible\n",
    "# stratify=y >> this keeps the proportion of the classes (churned vs not churned) remain the same in both training and test sets, to prevent imbalanced split\n",
    "X_train, X_test, y_train, y_test = train_test_split(X, y, test_size=0.3, random_state=21, stratify=y)\n",
    "\n",
    "knn = KNeighborsClassifier(n_neighbors=6)\n",
    "knn.fit(X_train, y_train)\n",
    "print(f\"Accuracy: {knn.score(X_test, y_test)}\")\n"
   ],
   "id": "70c8d3cf0b6d1e79",
   "outputs": [
    {
     "name": "stdout",
     "output_type": "stream",
     "text": [
      "Accuracy: 0.872\n"
     ]
    }
   ],
   "execution_count": 13
  },
  {
   "metadata": {},
   "cell_type": "markdown",
   "source": "# Model complexity and over/underfitting",
   "id": "62eddec1c42a1d0a"
  },
  {
   "metadata": {
    "ExecuteTime": {
     "end_time": "2025-03-16T07:23:39.256681Z",
     "start_time": "2025-03-16T07:23:35.827186Z"
    }
   },
   "cell_type": "code",
   "source": [
    "# checking the accuracy of the model using different knn neighbors\n",
    "from sklearn.model_selection import train_test_split\n",
    "from sklearn.neighbors import KNeighborsClassifier\n",
    "import numpy as np\n",
    "import matplotlib.pyplot as plt\n",
    "\n",
    "dataset = \"datasets/telecom_churn_clean.csv\"\n",
    "churn_df = pd.read_csv(dataset)\n",
    "\n",
    "X = churn_df[[\"total_day_charge\", \"total_eve_charge\"]].values\n",
    "y = churn_df[\"churn\"].values\n",
    "\n",
    "X_train, X_test, y_train, y_test = train_test_split(X, y, test_size=0.3, random_state=21, stratify=y)\n",
    "\n",
    "train_accuracy = {}\n",
    "test_accuracy = {}\n",
    "neighbours = np.arange(1, 26)\n",
    "\n",
    "# training the model using different neighbors\n",
    "for neighbour in neighbours:\n",
    "    knn = KNeighborsClassifier(n_neighbors=neighbour)\n",
    "    knn.fit(X_train, y_train)\n",
    "    train_accuracy[neighbour] = knn.score(X_train, y_train)\n",
    "    test_accuracy[neighbour] = knn.score(X_test, y_test)\n",
    "\n",
    "# plotting the results to see the difference between them\n",
    "plt.figure(figsize=(8, 6)) # width and height of the figure in inches\n",
    "plt.title(\"KNN: Varying Number of Neighbors\")\n",
    "plt.plot(neighbours, train_accuracy.values(), label=\"Training Accuracy\") # x-axis is the neighbors, y-axis is the  train_accuracy.values()\n",
    "plt.plot(neighbours, test_accuracy.values(), label=\"Testing Accuracy\") # x-axis is the neighbors, y-axis is the test_accuracy.values()\n",
    "plt.legend()\n",
    "plt.xlabel(\"Number of Neighbors\")\n",
    "plt.ylabel(\"Accuracy\")\n",
    "plt.show()"
   ],
   "id": "7dfab98036c7d70f",
   "outputs": [
    {
     "data": {
      "text/plain": [
       "<Figure size 800x600 with 1 Axes>"
      ],
      "image/png": "[encoded data removed]"
     },
     "metadata": {},
     "output_type": "display_data"
    }
   ],
   "execution_count": 14
  },
  {
   "metadata": {},
   "cell_type": "markdown",
   "source": "Chart explanation: The training accuracy starts high because it memorizes the training data, the test accuracy starts low and then increase because of the low K making it too sensitive to noise, but then as it starts having more neighbors, it will lead to better generalization.",
   "id": "12cc8a1e94f579a8"
  },
  {
   "metadata": {},
   "cell_type": "markdown",
   "source": "# Regression",
   "id": "7d16620cb17b24ed"
  },
  {
   "metadata": {
    "ExecuteTime": {
     "end_time": "2025-03-16T09:17:02.643380Z",
     "start_time": "2025-03-16T09:17:02.617428Z"
    }
   },
   "cell_type": "code",
   "source": [
    "import pandas as pd\n",
    "import matplotlib.pyplot as plt\n",
    "import numpy as np\n",
    "\n",
    "dataset_diabetes = \"datasets/diabetes_clean.csv\"\n",
    "df_diabetes = pd.read_csv(dataset_diabetes)\n",
    "df_diabetes.head()"
   ],
   "id": "fdd712058b0378e9",
   "outputs": [
    {
     "data": {
      "text/plain": [
       "   pregnancies  glucose  diastolic  triceps  insulin   bmi    dpf  age  \\\n",
       "0            6      148         72       35        0  33.6  0.627   50   \n",
       "1            1       85         66       29        0  26.6  0.351   31   \n",
       "2            8      183         64        0        0  23.3  0.672   32   \n",
       "3            1       89         66       23       94  28.1  0.167   21   \n",
       "4            0      137         40       35      168  43.1  2.288   33   \n",
       "\n",
       "   diabetes  \n",
       "0         1  \n",
       "1         0  \n",
       "2         1  \n",
       "3         0  \n",
       "4         1  "
      ],
      "text/html": [
       "<div>\n",
       "<style scoped>\n",
       "    .dataframe tbody tr th:only-of-type {\n",
       "        vertical-align: middle;\n",
       "    }\n",
       "\n",
       "    .dataframe tbody tr th {\n",
       "        vertical-align: top;\n",
       "    }\n",
       "\n",
       "    .dataframe thead th {\n",
       "        text-align: right;\n",
       "    }\n",
       "</style>\n",
       "<table border=\"1\" class=\"dataframe\">\n",
       "  <thead>\n",
       "    <tr style=\"text-align: right;\">\n",
       "      <th></th>\n",
       "      <th>pregnancies</th>\n",
       "      <th>glucose</th>\n",
       "      <th>diastolic</th>\n",
       "      <th>triceps</th>\n",
       "      <th>insulin</th>\n",
       "      <th>bmi</th>\n",
       "      <th>dpf</th>\n",
       "      <th>age</th>\n",
       "      <th>diabetes</th>\n",
       "    </tr>\n",
       "  </thead>\n",
       "  <tbody>\n",
       "    <tr>\n",
       "      <th>0</th>\n",
       "      <td>6</td>\n",
       "      <td>148</td>\n",
       "      <td>72</td>\n",
       "      <td>35</td>\n",
       "      <td>0</td>\n",
       "      <td>33.6</td>\n",
       "      <td>0.627</td>\n",
       "      <td>50</td>\n",
       "      <td>1</td>\n",
       "    </tr>\n",
       "    <tr>\n",
       "      <th>1</th>\n",
       "      <td>1</td>\n",
       "      <td>85</td>\n",
       "      <td>66</td>\n",
       "      <td>29</td>\n",
       "      <td>0</td>\n",
       "      <td>26.6</td>\n",
       "      <td>0.351</td>\n",
       "      <td>31</td>\n",
       "      <td>0</td>\n",
       "    </tr>\n",
       "    <tr>\n",
       "      <th>2</th>\n",
       "      <td>8</td>\n",
       "      <td>183</td>\n",
       "      <td>64</td>\n",
       "      <td>0</td>\n",
       "      <td>0</td>\n",
       "      <td>23.3</td>\n",
       "      <td>0.672</td>\n",
       "      <td>32</td>\n",
       "      <td>1</td>\n",
       "    </tr>\n",
       "    <tr>\n",
       "      <th>3</th>\n",
       "      <td>1</td>\n",
       "      <td>89</td>\n",
       "      <td>66</td>\n",
       "      <td>23</td>\n",
       "      <td>94</td>\n",
       "      <td>28.1</td>\n",
       "      <td>0.167</td>\n",
       "      <td>21</td>\n",
       "      <td>0</td>\n",
       "    </tr>\n",
       "    <tr>\n",
       "      <th>4</th>\n",
       "      <td>0</td>\n",
       "      <td>137</td>\n",
       "      <td>40</td>\n",
       "      <td>35</td>\n",
       "      <td>168</td>\n",
       "      <td>43.1</td>\n",
       "      <td>2.288</td>\n",
       "      <td>33</td>\n",
       "      <td>1</td>\n",
       "    </tr>\n",
       "  </tbody>\n",
       "</table>\n",
       "</div>"
      ]
     },
     "execution_count": 15,
     "metadata": {},
     "output_type": "execute_result"
    }
   ],
   "execution_count": 15
  },
  {
   "metadata": {
    "ExecuteTime": {
     "end_time": "2025-03-16T10:05:05.414824Z",
     "start_time": "2025-03-16T10:05:05.156410Z"
    }
   },
   "cell_type": "code",
   "source": [
    "import pandas as pd\n",
    "import matplotlib.pyplot as plt\n",
    "import numpy as np\n",
    "\n",
    "dataset_diabetes = \"datasets/diabetes_clean.csv\"\n",
    "df_diabetes = pd.read_csv(dataset_diabetes)\n",
    "\n",
    "X = df_diabetes.drop(\"glucose\", axis=1).values # all the columns except glucose\n",
    "y = df_diabetes[\"glucose\"].values # glucose column\n",
    "\n",
    "print(f\"Type of X and y: {type(X)}, {type(y)}\")\n",
    "print(f\"Shape of X and y: {X.shape}, {y.shape}\")\n",
    "\n",
    "# extracting the bmi table to predict the blood glucose from the bmi feature\n",
    "X_bmi = df_diabetes[\"bmi\"].values\n",
    "print(f\"BMI shape: {X_bmi.shape}\") # (768,) one dimensional array\n",
    "\n",
    "# because X_bmi will be a feature, we need to format it as two-dimensional array\n",
    "X_bmi = X_bmi.reshape(-1, 1) # reshape(number_of_rows, number_of_columns) ... (-1) means all the rows, and (1) means just one column\n",
    "print(f\"BMI reshaped into two-dimensional array: {X_bmi.shape}\")\n",
    "\n",
    "# plotting the glucose (y) vs body mass index (X_bmi) using scatter\n",
    "plt.scatter(X_bmi, y, c=\"green\")\n",
    "plt.title(\"Glucose vs BMI\")\n",
    "plt.xlabel(\"Body Mass Index\")\n",
    "plt.ylabel(\"Blood Glucose (mg/dl)\")\n",
    "plt.show()\n",
    "\n",
    "# Fitting a regression model using the glucose and BMT\n",
    "from sklearn.linear_model import LinearRegression\n",
    "reg = LinearRegression() # instantiating the model\n",
    "reg.fit(X_bmi, y)\n",
    "\n",
    "# generate the predictions\n",
    "predictions = reg.predict(X_bmi)\n",
    "\n",
    "# plot the result of the X_bmi and the prediction using scatter and plot\n",
    "plt.clf() # clearing the plot first (from the previous plot)\n",
    "plt.scatter(X_bmi, y, label=\"BMI/Glucose Scatter\", c=\"orange\")\n",
    "plt.plot(X_bmi, predictions, label=\"BMT/Glucose Prediction\", c=\"blue\")\n",
    "plt.legend()\n",
    "plt.xlabel(\"Body Mass Index\")\n",
    "plt.ylabel(\"Blood Glucose (mg/dl)\")\n",
    "plt.title(\"Blood Glucose vs BMI\")\n",
    "plt.show()"
   ],
   "id": "597e0b89961bee04",
   "outputs": [
    {
     "name": "stdout",
     "output_type": "stream",
     "text": [
      "Type of X and y: <class 'numpy.ndarray'>, <class 'numpy.ndarray'>\n",
      "Shape of X and y: (768, 8), (768,)\n",
      "BMI shape: (768,)\n",
      "BMI reshaped into two-dimensional array: (768, 1)\n"
     ]
    },
    {
     "data": {
      "text/plain": [
       "<Figure size 640x480 with 1 Axes>"
      ],
      "image/png": "[encoded data removed]"
     },
     "metadata": {},
     "output_type": "display_data"
    },
    {
     "data": {
      "text/plain": [
       "<Figure size 640x480 with 1 Axes>"
      ],
      "image/png": "[encoded data removed]"
     },
     "metadata": {},
     "output_type": "display_data"
    }
   ],
   "execution_count": 43
  },
  {
   "metadata": {},
   "cell_type": "markdown",
   "source": [
    "## Regression Mechanics\n",
    "y = ax + b\n",
    "- y: target\n",
    "- x: single feature\n",
    "- a,b: parameters/coefficients of the model (slope, intercept)"
   ],
   "id": "e53b008e6fb68862"
  },
  {
   "metadata": {
    "ExecuteTime": {
     "end_time": "2025-03-16T10:27:11.578095Z",
     "start_time": "2025-03-16T10:27:11.563945Z"
    }
   },
   "cell_type": "code",
   "source": [
    "# Training the model using all the features\n",
    "from sklearn.linear_model import LinearRegression\n",
    "from sklearn.model_selection import train_test_split\n",
    "import pandas as pd\n",
    "from sklearn.metrics import mean_squared_error\n",
    "\n",
    "# reading the dataset\n",
    "dataset_diabetes = \"datasets/diabetes_clean.csv\"\n",
    "df_diabetes = pd.read_csv(dataset_diabetes)\n",
    "\n",
    "# extracting the X and y from the dataset\n",
    "X = df_diabetes.drop(\"glucose\", axis=1).values # all the columns as features except glucose\n",
    "y = df_diabetes[\"glucose\"].values # only the glucose column as target\n",
    "\n",
    "# splitting the dataset into training and test datasets\n",
    "X_train, X_test, y_train, y_test = train_test_split(X, y, test_size=0.3, random_state=42)\n",
    "\n",
    "# instantiate the model and fit it into the training data\n",
    "reg_all = LinearRegression()\n",
    "reg_all.fit(X_train, y_train)\n",
    "\n",
    "# generate the prediction from the test data\n",
    "y_pred = reg_all.predict(X_test)\n",
    "\n",
    "# calculate the R-squared\n",
    "r_squared = reg_all.score(X_test, y_test)\n",
    "print(\"r_squared\", r_squared)\n",
    "\n",
    "# calculating the RMSE\n",
    "rmse = mean_squared_error(y_test, y_pred)\n",
    "print(\"RMSE: \", rmse)"
   ],
   "id": "d2d2745c2cd350d1",
   "outputs": [
    {
     "name": "stdout",
     "output_type": "stream",
     "text": [
      "r_squared 0.28280468810375115\n",
      "RMSE:  693.872492922376\n"
     ]
    }
   ],
   "execution_count": 50
  },
  {
   "metadata": {},
   "cell_type": "markdown",
   "source": "# Cross Validation\n",
   "id": "507c91ec334ff1fd"
  },
  {
   "metadata": {
    "ExecuteTime": {
     "end_time": "2025-03-16T12:27:35.351288Z",
     "start_time": "2025-03-16T12:27:35.331010Z"
    }
   },
   "cell_type": "code",
   "source": [
    "from sklearn.model_selection import cross_val_score, KFold\n",
    "from sklearn.linear_model import LinearRegression\n",
    "import pandas as pd\n",
    "import numpy as np\n",
    "\n",
    "# reading the dataset\n",
    "dataset_diabetes = \"datasets/diabetes_clean.csv\"\n",
    "df_diabetes = pd.read_csv(dataset_diabetes)\n",
    "\n",
    "# extracting the X and y from the dataset\n",
    "X = df_diabetes.drop(\"glucose\", axis=1).values # all the columns as features except glucose\n",
    "y = df_diabetes[\"glucose\"].values # only the glucose column as target\n",
    "\n",
    "# initiating KFold (with 6 folds) and LinearRegression\n",
    "kf = KFold(n_splits=6, shuffle=True, random_state=42)\n",
    "reg = LinearRegression()\n",
    "\n",
    "# passing the model, X, y and KFold to cross_val_score\n",
    "cv_result = cross_val_score(reg, X, y, cv=kf)\n",
    "\n",
    "print(\"Cross Validation Score: \", cv_result)\n",
    "print(f\"Mean score: {np.mean(cv_result)}, Standard deviation score: {np.std(cv_result)}\")\n",
    "print(f\"95% confidence interval: {np.quantile(cv_result, [0.025, 0.975])}\")"
   ],
   "id": "93af466824c92973",
   "outputs": [
    {
     "name": "stdout",
     "output_type": "stream",
     "text": [
      "Cross Validation Score:  [0.26207548 0.28228176 0.41203082 0.23785884 0.41634629 0.30398869]\n",
      "Mean score: 0.3190969786734479, Standard deviation score: 0.0701532061011419\n",
      "95% confidence interval: [0.24088592 0.41580685]\n"
     ]
    }
   ],
   "execution_count": 56
  },
  {
   "metadata": {},
   "cell_type": "markdown",
   "source": [
    "# Regularized Regression\n",
    "- to reduce overfitting\n",
    "## Ridge regression\n"
   ],
   "id": "289d56996faa5b38"
  },
  {
   "metadata": {
    "ExecuteTime": {
     "end_time": "2025-03-16T12:43:14.586871Z",
     "start_time": "2025-03-16T12:43:14.565309Z"
    }
   },
   "cell_type": "code",
   "source": [
    "from sklearn.linear_model import Ridge\n",
    "from sklearn.model_selection import train_test_split\n",
    "import pandas as pd\n",
    "\n",
    "\n",
    "# reading the dataset\n",
    "dataset_diabetes = \"datasets/diabetes_clean.csv\"\n",
    "df_diabetes = pd.read_csv(dataset_diabetes)\n",
    "\n",
    "# extracting the X and y from the dataset\n",
    "X = df_diabetes.drop(\"glucose\", axis=1).values # all the columns as features except glucose\n",
    "y = df_diabetes[\"glucose\"].values # only the glucose column as target\n",
    "\n",
    "# splitting the dataset into training and test datasets\n",
    "X_train, X_test, y_train, y_test = train_test_split(X, y, test_size=0.3, random_state=42)\n",
    "\n",
    "# scores list where we gonna save our scores from Ridge\n",
    "scores = []\n",
    "\n",
    "# looping through different alphas, train the model and save the result in scores\n",
    "for alpha in [0.1, 1.0, 10.0, 200.0, 1000.0]:\n",
    "    ridge = Ridge(alpha=alpha)\n",
    "    ridge.fit(X_train, y_train)\n",
    "    y_pred = ridge.predict(X_test)\n",
    "    scores.append(ridge.score(X_test, y_test))\n",
    "print(scores)"
   ],
   "id": "b03a9d0daf353164",
   "outputs": [
    {
     "name": "stdout",
     "output_type": "stream",
     "text": [
      "[0.28284666232222233, 0.28320633574804766, 0.2853000732200003, 0.2409524563564498, 0.19292424694100963]\n"
     ]
    }
   ],
   "execution_count": 57
  },
  {
   "metadata": {},
   "cell_type": "markdown",
   "source": "## Losso regression",
   "id": "20080b8541ce9980"
  },
  {
   "metadata": {
    "ExecuteTime": {
     "end_time": "2025-03-16T12:47:05.350060Z",
     "start_time": "2025-03-16T12:47:05.330276Z"
    }
   },
   "cell_type": "code",
   "source": [
    "from sklearn.linear_model import Lasso\n",
    "from sklearn.model_selection import train_test_split\n",
    "import pandas as pd\n",
    "\n",
    "\n",
    "# reading the dataset\n",
    "dataset_diabetes = \"datasets/diabetes_clean.csv\"\n",
    "df_diabetes = pd.read_csv(dataset_diabetes)\n",
    "\n",
    "# extracting the X and y from the dataset\n",
    "X = df_diabetes.drop(\"glucose\", axis=1).values # all the columns as features except glucose\n",
    "y = df_diabetes[\"glucose\"].values # only the glucose column as target\n",
    "\n",
    "# splitting the dataset into training and test datasets\n",
    "X_train, X_test, y_train, y_test = train_test_split(X, y, test_size=0.3, random_state=42)\n",
    "\n",
    "# scores list where we gonna save our scores from Lasso\n",
    "scores = []\n",
    "\n",
    "# looping through different alphas, train the model and save the result in scores\n",
    "for alpha in [0.1, 1.0, 10.0, 20.0, 50.0]:\n",
    "    lasso = Lasso(alpha=alpha)\n",
    "    lasso.fit(X_train, y_train)\n",
    "    lasso_pred = lasso.predict(X_test)\n",
    "    scores.append(lasso.score(X_test, y_test))\n",
    "print(scores)\n",
    "## Losso regression"
   ],
   "id": "688a81c752c756f0",
   "outputs": [
    {
     "name": "stdout",
     "output_type": "stream",
     "text": [
      "[0.28575325694826237, 0.29795609755827845, 0.17989838789273893, 0.18127361610181125, 0.15679544303617987]\n"
     ]
    }
   ],
   "execution_count": 58
  },
  {
   "metadata": {},
   "cell_type": "markdown",
   "source": "## Lasso for feature selection",
   "id": "2ff12a29dbb63bda"
  },
  {
   "metadata": {
    "ExecuteTime": {
     "end_time": "2025-03-16T12:51:31.760352Z",
     "start_time": "2025-03-16T12:51:31.657514Z"
    }
   },
   "cell_type": "code",
   "source": [
    "from sklearn.linear_model import Lasso\n",
    "import pandas as pd\n",
    "import matplotlib.pyplot as plt\n",
    "\n",
    "# reading the dataset\n",
    "dataset_diabetes = \"datasets/diabetes_clean.csv\"\n",
    "df_diabetes = pd.read_csv(dataset_diabetes)\n",
    "\n",
    "# extracting the X and y from the dataset\n",
    "X = df_diabetes.drop(\"glucose\", axis=1).values # all the columns as features except glucose\n",
    "y = df_diabetes[\"glucose\"].values # only the glucose column as target\n",
    "\n",
    "# extract the names of the columns\n",
    "names = df_diabetes.drop(\"glucose\", axis=1).columns\n",
    "\n",
    "# initialize Lasso\n",
    "lasso = Lasso(alpha=0.1)\n",
    "\n",
    "# fit the model to the data and extract the coef\n",
    "lasso_coef = lasso.fit(X, y).coef_\n",
    "\n",
    "# plot the result\n",
    "plt.bar(names, lasso_coef)\n",
    "plt.xticks(rotation=45)\n",
    "plt.show()"
   ],
   "id": "51b4693076fe8cd0",
   "outputs": [
    {
     "data": {
      "text/plain": [
       "<Figure size 640x480 with 1 Axes>"
      ],
      "image/png": "[encoded data removed]"
     },
     "metadata": {},
     "output_type": "display_data"
    }
   ],
   "execution_count": 59
  },
  {
   "metadata": {},
   "cell_type": "markdown",
   "source": "chart explanation above: it seems the diabetes column is the most important feature in this case",
   "id": "dde7904fb1790a5"
  },
  {
   "metadata": {},
   "cell_type": "code",
   "outputs": [],
   "execution_count": null,
   "source": "",
   "id": "4c6f9c1e8afd8b40"
  }
 ],
 "metadata": {
  "kernelspec": {
   "display_name": "Python 3",
   "language": "python",
   "name": "python3"
  },
  "language_info": {
   "codemirror_mode": {
    "name": "ipython",
    "version": 2
   },
   "file_extension": ".py",
   "mimetype": "text/x-python",
   "name": "python",
   "nbconvert_exporter": "python",
   "pygments_lexer": "ipython2",
   "version": "2.7.6"
  }
 },
 "nbformat": 4,
 "nbformat_minor": 5
}
