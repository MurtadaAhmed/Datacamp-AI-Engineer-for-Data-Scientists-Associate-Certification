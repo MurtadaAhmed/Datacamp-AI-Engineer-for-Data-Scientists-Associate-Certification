{
 "cells": [
  {
   "cell_type": "code",
   "id": "initial_id",
   "metadata": {
    "collapsed": true,
    "ExecuteTime": {
     "end_time": "2025-03-30T17:21:51.219564Z",
     "start_time": "2025-03-30T17:21:51.198704Z"
    }
   },
   "source": [
    "# using decision tree classifier\n",
    "import pandas as pd\n",
    "from sklearn.metrics import accuracy_score\n",
    "from sklearn.tree import DecisionTreeClassifier, export_text\n",
    "from sklearn.model_selection import train_test_split\n",
    "\n",
    "dataset = \"datasets/admission_data.csv\"\n",
    "admission_df = pd.read_csv(dataset)\n",
    "\n",
    "X = admission_df.drop(\"Accept\", axis=1).values # without Accept column\n",
    "y = admission_df[\"Accept\"].values # only Accept column\n",
    "\n",
    "X_train, X_test, y_train, y_test = train_test_split(X, y, test_size=0.3, random_state=42)\n",
    "\n",
    "model = DecisionTreeClassifier(max_depth=5)\n",
    "\n",
    "model.fit(X_train, y_train)\n",
    "\n",
    "y_pred = model.predict(X_test)\n",
    "\n",
    "\n",
    "accuracy = accuracy_score(y_test, y_pred)\n",
    "\n",
    "print(f\"Accuracy of Decision Tree: {accuracy}\")\n",
    "features = admission_df.drop(\"Accept\", axis=1)\n",
    "rules = export_text(model, feature_names=list(features.columns))\n",
    "print(rules)"
   ],
   "outputs": [
    {
     "name": "stdout",
     "output_type": "stream",
     "text": [
      "Accuracy of Decision Tree: 1.0\n",
      "|--- Chance of Admit <= 0.69\n",
      "|   |--- class: 0\n",
      "|--- Chance of Admit >  0.69\n",
      "|   |--- class: 1\n",
      "\n"
     ]
    }
   ],
   "execution_count": 8
  },
  {
   "metadata": {
    "ExecuteTime": {
     "end_time": "2025-03-30T17:04:58.668693Z",
     "start_time": "2025-03-30T17:04:52.703331Z"
    }
   },
   "cell_type": "code",
   "source": [
    "# MLPClassifier\n",
    "import pandas as pd\n",
    "from sklearn.metrics import accuracy_score\n",
    "from sklearn.neural_network import MLPClassifier\n",
    "from sklearn.model_selection import train_test_split\n",
    "\n",
    "dataset = \"datasets/admission_data.csv\"\n",
    "admission_df = pd.read_csv(dataset)\n",
    "\n",
    "admission_df.fillna(admission_df.mean(), inplace=True)\n",
    "\n",
    "X = admission_df.drop(\"Accept\", axis=1).values # without Accept column\n",
    "y = admission_df[\"Accept\"].values # only Accept column\n",
    "\n",
    "X_train, X_test, y_train, y_test = train_test_split(X, y, test_size=0.3, random_state=42)\n",
    "\n",
    "model = MLPClassifier(hidden_layer_sizes=(1000,1000))\n",
    "\n",
    "model.fit(X_train, y_train)\n",
    "\n",
    "y_pred = model.predict(X_test)\n",
    "\n",
    "\n",
    "accuracy = accuracy_score(y_test, y_pred)\n",
    "\n",
    "print(f\"Accuracy of MLPClassifier: {accuracy}\")"
   ],
   "id": "cf3b12dda35b79e7",
   "outputs": [
    {
     "name": "stdout",
     "output_type": "stream",
     "text": [
      "Accuracy of MLPClassifier: 0.6866666666666666\n"
     ]
    }
   ],
   "execution_count": 2
  },
  {
   "metadata": {},
   "cell_type": "markdown",
   "source": "# Explainability in linear models",
   "id": "9f3584e1933b5720"
  },
  {
   "metadata": {},
   "cell_type": "code",
   "outputs": [],
   "execution_count": null,
   "source": "",
   "id": "44d805d4934fa70a"
  }
 ],
 "metadata": {
  "kernelspec": {
   "display_name": "Python 3",
   "language": "python",
   "name": "python3"
  },
  "language_info": {
   "codemirror_mode": {
    "name": "ipython",
    "version": 2
   },
   "file_extension": ".py",
   "mimetype": "text/x-python",
   "name": "python",
   "nbconvert_exporter": "python",
   "pygments_lexer": "ipython2",
   "version": "2.7.6"
  }
 },
 "nbformat": 4,
 "nbformat_minor": 5
}
