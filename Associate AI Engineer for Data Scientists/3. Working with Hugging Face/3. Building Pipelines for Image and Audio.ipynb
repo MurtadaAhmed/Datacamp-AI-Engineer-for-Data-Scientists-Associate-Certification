{
 "cells": [
  {
   "metadata": {},
   "cell_type": "markdown",
   "source": "# Processing and classifying images",
   "id": "bca867947dfdfa35"
  },
  {
   "cell_type": "code",
   "id": "initial_id",
   "metadata": {
    "collapsed": true,
    "ExecuteTime": {
     "end_time": "2025-03-29T14:58:53.809502Z",
     "start_time": "2025-03-29T14:58:53.785947Z"
    }
   },
   "source": [
    "# 1. image processing\n",
    "from transformers import image_transforms\n",
    "from PIL import Image\n",
    "import numpy as np\n",
    "\n",
    "original_image = Image.open(\"elephant.jpeg\")\n",
    "image_array = np.array(original_image)\n",
    "\n",
    "# cropped_image = image_transforms.center_crop(image=image_array, size=(224, 224))"
   ],
   "outputs": [],
   "execution_count": 3
  },
  {
   "metadata": {
    "ExecuteTime": {
     "end_time": "2025-03-29T15:07:38.780700Z",
     "start_time": "2025-03-29T15:07:37.474132Z"
    }
   },
   "cell_type": "code",
   "source": [
    "# 2. image classification\n",
    "from transformers import pipeline, AutoImageProcessor\n",
    "\n",
    "image_processor = AutoImageProcessor.from_pretrained(\"google/vit-base-patch16-224\", use_fast=True) # use_fast for fast image processing\n",
    "\n",
    "classifier = pipeline(\n",
    "    task=\"image-classification\",\n",
    "    model=\"google/vit-base-patch16-224\",\n",
    "    image_processor=image_processor\n",
    ")\n",
    "classifier(original_image, top_k=2) # top_k optional limit the number of labels returned"
   ],
   "id": "5bcfed9b3d72c9c4",
   "outputs": [
    {
     "name": "stderr",
     "output_type": "stream",
     "text": [
      "Device set to use cpu\n"
     ]
    },
    {
     "data": {
      "text/plain": [
       "[{'label': 'tusker', 'score': 0.6766787171363831},\n",
       " {'label': 'African elephant, Loxodonta africana',\n",
       "  'score': 0.16594795882701874}]"
      ]
     },
     "execution_count": 11,
     "metadata": {},
     "output_type": "execute_result"
    }
   ],
   "execution_count": 11
  },
  {
   "metadata": {},
   "cell_type": "markdown",
   "source": "# Question answering and multi-modal tasks",
   "id": "c924d5554f3cec2b"
  },
  {
   "metadata": {},
   "cell_type": "code",
   "source": [
    "from transformers import pipeline\n",
    "\n",
    "dqa = pipeline(\n",
    "    task=\"document-question-answering\",\n",
    "    model=\"naver-clova-ix/donut-base-finetuned-docvqa\"\n",
    ")\n",
    "\n",
    "document_image = \"nda.jpg\"\n",
    "question = \"what is this photo?\"\n",
    "\n",
    "dqa(document_image, question)"
   ],
   "id": "2998ce442d5c3300",
   "outputs": [],
   "execution_count": null
  },
  {
   "metadata": {
    "ExecuteTime": {
     "end_time": "2025-03-29T15:31:55.998300Z",
     "start_time": "2025-03-29T15:31:54.932299Z"
    }
   },
   "cell_type": "code",
   "source": [
    "from transformers import pipeline\n",
    "image = \"elephant.jpeg\"\n",
    "\n",
    "vqa = pipeline(\n",
    "    task=\"visual-question-answering\",\n",
    "    model=\"dandelin/vilt-b32-finetuned-vqa\"\n",
    ")\n",
    "\n",
    "vqa(\n",
    "    image=image,\n",
    "    question=\"what is the environment of this image?\"\n",
    ")"
   ],
   "id": "6390e3c8622d2a04",
   "outputs": [
    {
     "name": "stderr",
     "output_type": "stream",
     "text": [
      "Device set to use cpu\n"
     ]
    },
    {
     "data": {
      "text/plain": [
       "[{'score': 0.5241600275039673, 'answer': 'zoo'},\n",
       " {'score': 0.18516398966312408, 'answer': 'field'},\n",
       " {'score': 0.14067140221595764, 'answer': 'wild'},\n",
       " {'score': 0.12174499779939651, 'answer': 'outdoors'},\n",
       " {'score': 0.11914794147014618, 'answer': 'grass'}]"
      ]
     },
     "execution_count": 5,
     "metadata": {},
     "output_type": "execute_result"
    }
   ],
   "execution_count": 5
  },
  {
   "metadata": {},
   "cell_type": "markdown",
   "source": "# Audio classification",
   "id": "10c8f862351be8cb"
  },
  {
   "metadata": {},
   "cell_type": "code",
   "outputs": [],
   "execution_count": null,
   "source": [
    "from datasets import Audio\n",
    "\n",
    "songs = songs.cast_column(\"audio\", Audio(sampling_rate=16_000))\n",
    "\n",
    "songs[0][\"audio\"][\"sampling_rate\"]"
   ],
   "id": "55ad0af1c1da389b"
  },
  {
   "metadata": {},
   "cell_type": "code",
   "outputs": [],
   "execution_count": null,
   "source": [
    "# filtering\n",
    "import librosa\n",
    "durations = []\n",
    "for row in songs[\"path\"]:\n",
    "    durations.append(librosa.get_duration(path=row))\n",
    "\n",
    "songs.add_column(\"duration\", durations)\n",
    "\n",
    "songs = dataset.filter(\n",
    "    lambda d: d <10.0, input_columns=[\"duration\"]\n",
    ")"
   ],
   "id": "46db1bbb3d5a597a"
  },
  {
   "metadata": {},
   "cell_type": "code",
   "outputs": [],
   "execution_count": null,
   "source": [
    "from transformers import pipeline\n",
    "\n",
    "classifier = pipeline(\n",
    "    task=\"audio-classification\",\n",
    "    model=\"superb/wav2vec2-base-superb-ks\"\n",
    ")\n",
    "\n",
    "audio = songs[0]['audio']['array']\n",
    "prediction = classifier(audio, top_k=1)"
   ],
   "id": "5179bcd407b3f3ba"
  },
  {
   "metadata": {},
   "cell_type": "markdown",
   "source": "# Automatic speech recognition ASR",
   "id": "194c436a678e89f6"
  },
  {
   "metadata": {},
   "cell_type": "code",
   "outputs": [],
   "execution_count": null,
   "source": [
    "transcriber = pipeline(\n",
    "    task=\"automatic-speach-recognition\",\n",
    "    model=\"facebook/wav2vec2-base-960h\"\n",
    ")\n",
    "\n",
    "transcriber(\"my_audio.wav\")\n"
   ],
   "id": "1505614b5d8fa51f"
  },
  {
   "metadata": {
    "ExecuteTime": {
     "end_time": "2025-03-29T16:20:16.777088Z",
     "start_time": "2025-03-29T16:20:16.232647Z"
    }
   },
   "cell_type": "code",
   "source": [
    "# word error rate WER\n",
    "from evaluate import load\n",
    "\n",
    "wer = load(\"wer\")\n",
    "\n",
    "reference = data[0]['sentence']\n",
    "\n",
    "prediction = \"\"\n",
    "\n",
    "wer_score = wer.compute(\n",
    "    predictions=[prediction],\n",
    "    references=[reference]\n",
    ")\n"
   ],
   "id": "3fc87b384e0e9399",
   "outputs": [
    {
     "ename": "ModuleNotFoundError",
     "evalue": "No module named 'evaluate'",
     "output_type": "error",
     "traceback": [
      "\u001B[31m---------------------------------------------------------------------------\u001B[39m",
      "\u001B[31mModuleNotFoundError\u001B[39m                       Traceback (most recent call last)",
      "\u001B[36mCell\u001B[39m\u001B[36m \u001B[39m\u001B[32mIn[6]\u001B[39m\u001B[32m, line 1\u001B[39m\n\u001B[32m----> \u001B[39m\u001B[32m1\u001B[39m \u001B[38;5;28;01mfrom\u001B[39;00m\u001B[38;5;250m \u001B[39m\u001B[34;01mevaluate\u001B[39;00m\u001B[38;5;250m \u001B[39m\u001B[38;5;28;01mimport\u001B[39;00m load\n",
      "\u001B[31mModuleNotFoundError\u001B[39m: No module named 'evaluate'"
     ]
    }
   ],
   "execution_count": 6
  },
  {
   "metadata": {},
   "cell_type": "code",
   "outputs": [],
   "execution_count": null,
   "source": "",
   "id": "70c1e613a53c72bf"
  }
 ],
 "metadata": {
  "kernelspec": {
   "display_name": "Python 3",
   "language": "python",
   "name": "python3"
  },
  "language_info": {
   "codemirror_mode": {
    "name": "ipython",
    "version": 2
   },
   "file_extension": ".py",
   "mimetype": "text/x-python",
   "name": "python",
   "nbconvert_exporter": "python",
   "pygments_lexer": "ipython2",
   "version": "2.7.6"
  }
 },
 "nbformat": 4,
 "nbformat_minor": 5
}
