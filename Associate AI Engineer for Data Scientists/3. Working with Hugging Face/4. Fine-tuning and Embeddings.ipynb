{
 "cells": [
  {
   "metadata": {},
   "cell_type": "markdown",
   "source": "# Fine-tuning a model",
   "id": "fe7c812e97439e31"
  },
  {
   "metadata": {},
   "cell_type": "code",
   "outputs": [],
   "execution_count": null,
   "source": [
    "from sympy.polys.polyconfig import query\n",
    "from transformers import AutoModelForSequenceClassification, AutoTokenizer, Trainer, TrainingArguments\n",
    "\n",
    "model = AutoModelForSequenceClassification.from_pretrained(\"bert-base-cased\")\n",
    "\n",
    "tokenizer = AutoTokenizer.from_pretrained(\"bert-base-cased\")\n",
    "\n",
    "dataset = dataset.map(\n",
    "    lambda row: tokenizer(row[\"text\"])\n",
    ")\n",
    "\n",
    "training_args = TrainingArguments(\n",
    "    output_dir=\"./results\"\n",
    ")\n",
    "\n",
    "trainer = Trainer(\n",
    "    model=model,\n",
    "    args=training_args,\n",
    "    train_dataset=dataset['train'],\n",
    "    eval_dataset=dataset['test']\n",
    ")\n",
    "\n",
    "trainer.train()\n",
    "local_path = \"./fine_tuned_model\"\n",
    "\n",
    "trainer.save_model(local_path)\n"
   ],
   "id": "a812a430c60fac6d"
  },
  {
   "metadata": {},
   "cell_type": "markdown",
   "source": "# Text generation",
   "id": "d9bb98e48f93f49d"
  },
  {
   "metadata": {
    "ExecuteTime": {
     "end_time": "2025-03-29T17:34:23.111299Z",
     "start_time": "2025-03-29T17:34:21.833691Z"
    }
   },
   "cell_type": "code",
   "source": [
    "from transformers import AutoTokenizer, AutoModelForCausalLM\n",
    "\n",
    "tokenizer = AutoTokenizer.from_pretrained(\"gpt2\")\n",
    "model = AutoModelForCausalLM.from_pretrained(\"gpt2\")\n",
    "\n",
    "prompt = \"the weather is so\"\n",
    "\n",
    "input_ids = tokenizer.encode(prompt, return_tensors=\"pt\")\n",
    "\n",
    "output = model.generate(input_ids, num_return_sequences=1, pad_token_id=tokenizer.eos_token_id)\n",
    "\n",
    "generated_text = tokenizer.decode(output[0], skip_special_tokens=True)\n",
    "\n",
    "generated_text"
   ],
   "id": "f7920fdb28273458",
   "outputs": [
    {
     "data": {
      "text/plain": [
       "'the weather is so bad, I\\'m going to go to the beach and swim.\"\\n\\nThe man, who asked'"
      ]
     },
     "execution_count": 6,
     "metadata": {},
     "output_type": "execute_result"
    }
   ],
   "execution_count": 6
  },
  {
   "metadata": {
    "ExecuteTime": {
     "end_time": "2025-03-29T17:51:58.580913Z",
     "start_time": "2025-03-29T17:51:24.864426Z"
    }
   },
   "cell_type": "code",
   "source": [
    "# generate text from image\n",
    "from transformers import AutoProcessor, AutoModelForCausalLM\n",
    "from PIL import Image\n",
    "\n",
    "processor = AutoProcessor.from_pretrained(\"microsoft/git-base-coco\")\n",
    "model = AutoModelForCausalLM.from_pretrained(\"microsoft/git-base-coco\")\n",
    "\n",
    "image = Image.open(\"elephant.jpeg\")\n",
    "\n",
    "pixel_values = processor(images=image, return_tensors=\"pt\").pixel_values\n",
    "\n",
    "generated_ids = model.generate(pixel_values=pixel_values, max_length=50)\n",
    "\n",
    "\n",
    "generated_caption = processor.batch_decode(\n",
    "    generated_ids,\n",
    "    skip_special_tokens=True\n",
    ")\n",
    "\n",
    "generated_caption[0]"
   ],
   "id": "48011c259a7ec304",
   "outputs": [
    {
     "data": {
      "text/plain": [
       "preprocessor_config.json:   0%|          | 0.00/503 [00:00<?, ?B/s]"
      ],
      "application/vnd.jupyter.widget-view+json": {
       "version_major": 2,
       "version_minor": 0,
       "model_id": "ae87c4f270fe4f90a17d249f9b955517"
      }
     },
     "metadata": {},
     "output_type": "display_data"
    },
    {
     "name": "stderr",
     "output_type": "stream",
     "text": [
      "Using a slow image processor as `use_fast` is unset and a slow processor was saved with this model. `use_fast=True` will be the default behavior in v4.52, even if the model was saved with a slow processor. This will result in minor differences in outputs. You'll still be able to use a slow processor with `use_fast=False`.\n"
     ]
    },
    {
     "data": {
      "text/plain": [
       "tokenizer_config.json:   0%|          | 0.00/453 [00:00<?, ?B/s]"
      ],
      "application/vnd.jupyter.widget-view+json": {
       "version_major": 2,
       "version_minor": 0,
       "model_id": "0b96f137e32a4b16b946606056ced863"
      }
     },
     "metadata": {},
     "output_type": "display_data"
    },
    {
     "data": {
      "text/plain": [
       "vocab.txt:   0%|          | 0.00/232k [00:00<?, ?B/s]"
      ],
      "application/vnd.jupyter.widget-view+json": {
       "version_major": 2,
       "version_minor": 0,
       "model_id": "9006b0d4e5c04d1eb09608dc68928750"
      }
     },
     "metadata": {},
     "output_type": "display_data"
    },
    {
     "data": {
      "text/plain": [
       "tokenizer.json:   0%|          | 0.00/711k [00:00<?, ?B/s]"
      ],
      "application/vnd.jupyter.widget-view+json": {
       "version_major": 2,
       "version_minor": 0,
       "model_id": "85dc31c11c0d42d5a14f5129f844c8ce"
      }
     },
     "metadata": {},
     "output_type": "display_data"
    },
    {
     "data": {
      "text/plain": [
       "special_tokens_map.json:   0%|          | 0.00/125 [00:00<?, ?B/s]"
      ],
      "application/vnd.jupyter.widget-view+json": {
       "version_major": 2,
       "version_minor": 0,
       "model_id": "048e45de3ca44d82a8c64356caff03db"
      }
     },
     "metadata": {},
     "output_type": "display_data"
    },
    {
     "data": {
      "text/plain": [
       "config.json:   0%|          | 0.00/2.82k [00:00<?, ?B/s]"
      ],
      "application/vnd.jupyter.widget-view+json": {
       "version_major": 2,
       "version_minor": 0,
       "model_id": "5041d55ddd34471faacbed405d5a95d6"
      }
     },
     "metadata": {},
     "output_type": "display_data"
    },
    {
     "data": {
      "text/plain": [
       "pytorch_model.bin:   0%|          | 0.00/707M [00:00<?, ?B/s]"
      ],
      "application/vnd.jupyter.widget-view+json": {
       "version_major": 2,
       "version_minor": 0,
       "model_id": "5989bae2e83548be8d1d8c6063861bb6"
      }
     },
     "metadata": {},
     "output_type": "display_data"
    },
    {
     "data": {
      "text/plain": [
       "generation_config.json:   0%|          | 0.00/141 [00:00<?, ?B/s]"
      ],
      "application/vnd.jupyter.widget-view+json": {
       "version_major": 2,
       "version_minor": 0,
       "model_id": "881fa108226948ec9f063ea41c753930"
      }
     },
     "metadata": {},
     "output_type": "display_data"
    },
    {
     "name": "stderr",
     "output_type": "stream",
     "text": [
      "Legacy behavior is being used. The current behavior will be deprecated in version 5.0.0. In the new behavior, if both images and text are provided, the last token (EOS token) of the input_ids and attention_mask tensors will be removed. To test the new behavior, set `legacy=False`as a processor call argument.\n"
     ]
    },
    {
     "data": {
      "text/plain": [
       "model.safetensors:   0%|          | 0.00/707M [00:00<?, ?B/s]"
      ],
      "application/vnd.jupyter.widget-view+json": {
       "version_major": 2,
       "version_minor": 0,
       "model_id": "448e02e7f32d4dd7881a55d116dadd37"
      }
     },
     "metadata": {},
     "output_type": "display_data"
    },
    {
     "data": {
      "text/plain": [
       "'a baby elephant walking through a grassy field.'"
      ]
     },
     "execution_count": 7,
     "metadata": {},
     "output_type": "execute_result"
    }
   ],
   "execution_count": 7
  },
  {
   "metadata": {},
   "cell_type": "markdown",
   "source": "# Embeddings",
   "id": "b2cbcbb09edf48be"
  },
  {
   "metadata": {
    "ExecuteTime": {
     "end_time": "2025-03-29T18:04:29.135908Z",
     "start_time": "2025-03-29T18:04:14.547987Z"
    }
   },
   "cell_type": "code",
   "source": [
    "# pip install sentence-transformers\n",
    "from sentence_transformers import SentenceTransformer\n",
    "model_name = \"all-MiniLM-L6-v2\"\n",
    "embedder = SentenceTransformer(model_name)\n",
    "\n",
    "sentence = \"what are embeddings?\"\n",
    "\n",
    "embeddings = embedder.encode([sentence])\n",
    "\n",
    "embeddings"
   ],
   "id": "4ef1d96025371b0d",
   "outputs": [
    {
     "data": {
      "text/plain": [
       "modules.json:   0%|          | 0.00/349 [00:00<?, ?B/s]"
      ],
      "application/vnd.jupyter.widget-view+json": {
       "version_major": 2,
       "version_minor": 0,
       "model_id": "95fd805ca4a1425681345e393b5d6c15"
      }
     },
     "metadata": {},
     "output_type": "display_data"
    },
    {
     "data": {
      "text/plain": [
       "config_sentence_transformers.json:   0%|          | 0.00/116 [00:00<?, ?B/s]"
      ],
      "application/vnd.jupyter.widget-view+json": {
       "version_major": 2,
       "version_minor": 0,
       "model_id": "1920689865f742e5ac1668e1320a45ff"
      }
     },
     "metadata": {},
     "output_type": "display_data"
    },
    {
     "data": {
      "text/plain": [
       "README.md:   0%|          | 0.00/10.5k [00:00<?, ?B/s]"
      ],
      "application/vnd.jupyter.widget-view+json": {
       "version_major": 2,
       "version_minor": 0,
       "model_id": "3fbb03afc90d49d69bc8bc62ef339938"
      }
     },
     "metadata": {},
     "output_type": "display_data"
    },
    {
     "data": {
      "text/plain": [
       "sentence_bert_config.json:   0%|          | 0.00/53.0 [00:00<?, ?B/s]"
      ],
      "application/vnd.jupyter.widget-view+json": {
       "version_major": 2,
       "version_minor": 0,
       "model_id": "fc004756db5b48f99c524f0f5a68db07"
      }
     },
     "metadata": {},
     "output_type": "display_data"
    },
    {
     "data": {
      "text/plain": [
       "config.json:   0%|          | 0.00/612 [00:00<?, ?B/s]"
      ],
      "application/vnd.jupyter.widget-view+json": {
       "version_major": 2,
       "version_minor": 0,
       "model_id": "41ee791e0c5e41bf95c39721b92b63ef"
      }
     },
     "metadata": {},
     "output_type": "display_data"
    },
    {
     "data": {
      "text/plain": [
       "model.safetensors:   0%|          | 0.00/90.9M [00:00<?, ?B/s]"
      ],
      "application/vnd.jupyter.widget-view+json": {
       "version_major": 2,
       "version_minor": 0,
       "model_id": "2566995a51ca427cb3298ebbd8274d5c"
      }
     },
     "metadata": {},
     "output_type": "display_data"
    },
    {
     "data": {
      "text/plain": [
       "tokenizer_config.json:   0%|          | 0.00/350 [00:00<?, ?B/s]"
      ],
      "application/vnd.jupyter.widget-view+json": {
       "version_major": 2,
       "version_minor": 0,
       "model_id": "4c61b16956204fcdba4e2c5f9e30657c"
      }
     },
     "metadata": {},
     "output_type": "display_data"
    },
    {
     "data": {
      "text/plain": [
       "vocab.txt:   0%|          | 0.00/232k [00:00<?, ?B/s]"
      ],
      "application/vnd.jupyter.widget-view+json": {
       "version_major": 2,
       "version_minor": 0,
       "model_id": "88087e7c7a7a4888b6b31bdd14ff17f8"
      }
     },
     "metadata": {},
     "output_type": "display_data"
    },
    {
     "data": {
      "text/plain": [
       "tokenizer.json:   0%|          | 0.00/466k [00:00<?, ?B/s]"
      ],
      "application/vnd.jupyter.widget-view+json": {
       "version_major": 2,
       "version_minor": 0,
       "model_id": "4deb6f370716478ba7f0ab9c7d15b2e5"
      }
     },
     "metadata": {},
     "output_type": "display_data"
    },
    {
     "data": {
      "text/plain": [
       "special_tokens_map.json:   0%|          | 0.00/112 [00:00<?, ?B/s]"
      ],
      "application/vnd.jupyter.widget-view+json": {
       "version_major": 2,
       "version_minor": 0,
       "model_id": "a88d507a760f4a50b91421ac131eaf1f"
      }
     },
     "metadata": {},
     "output_type": "display_data"
    },
    {
     "data": {
      "text/plain": [
       "config.json:   0%|          | 0.00/190 [00:00<?, ?B/s]"
      ],
      "application/vnd.jupyter.widget-view+json": {
       "version_major": 2,
       "version_minor": 0,
       "model_id": "bcaace41856140dc92537bf080c319f8"
      }
     },
     "metadata": {},
     "output_type": "display_data"
    },
    {
     "data": {
      "text/plain": [
       "array([[-1.73369551e-03, -8.55376348e-02, -1.51369497e-02,\n",
       "        -1.05205299e-02,  2.52214298e-02,  7.31167570e-02,\n",
       "        -2.82051302e-02,  4.29564709e-04,  7.04325959e-02,\n",
       "        -2.81849056e-02,  2.75691524e-02,  3.37372161e-02,\n",
       "         4.14264686e-02,  7.12580374e-03, -6.59378916e-02,\n",
       "         2.29259152e-02,  5.05346842e-02,  6.68734089e-02,\n",
       "        -8.28059837e-02,  2.64009293e-02, -1.94520783e-02,\n",
       "        -1.40376315e-02, -6.77151047e-03, -7.95342475e-02,\n",
       "         6.00138977e-02, -2.32633092e-02, -5.62363267e-02,\n",
       "         4.81321849e-02,  7.38315284e-02, -3.44408788e-02,\n",
       "         3.29989232e-02, -3.28794383e-02, -1.85335539e-02,\n",
       "         5.60518503e-02, -5.12580276e-02,  1.09540708e-01,\n",
       "         1.84110869e-02,  4.26630164e-03, -7.90110528e-02,\n",
       "         4.40340163e-03,  1.67858284e-02,  1.99063402e-02,\n",
       "        -3.60956863e-02,  5.55006899e-02,  6.40486628e-02,\n",
       "        -3.67567390e-02, -2.81933956e-02, -4.05343622e-02,\n",
       "        -1.05584592e-01,  2.39179581e-02, -3.28660868e-02,\n",
       "        -2.92969495e-02, -6.91607818e-02,  4.60894443e-02,\n",
       "        -2.93364674e-02, -6.27264455e-02, -1.43889990e-02,\n",
       "        -1.65375005e-02,  1.97086800e-02, -1.54229868e-02,\n",
       "         6.72278181e-02, -3.18620466e-02,  5.34063838e-02,\n",
       "         6.32821247e-02,  1.47951683e-02, -5.78765385e-02,\n",
       "        -4.04618867e-02,  1.07917033e-01, -1.37822656e-02,\n",
       "        -6.01518841e-04, -2.13388726e-02, -1.98527109e-02,\n",
       "        -1.01896405e-01,  7.61550386e-03, -1.53516494e-02,\n",
       "        -1.68931484e-02,  4.31428030e-02, -5.38057722e-02,\n",
       "         8.26978236e-02, -1.03877708e-01,  2.61319969e-02,\n",
       "         1.95820034e-02,  8.13862833e-04, -2.20304821e-02,\n",
       "         5.40263951e-02,  4.06509191e-02,  3.89632769e-02,\n",
       "        -4.09259507e-03, -1.02902107e-01,  5.42104524e-03,\n",
       "         1.71337090e-02, -9.57624242e-02, -3.99241486e-04,\n",
       "         4.24489193e-02,  3.72099355e-02, -5.90213612e-02,\n",
       "        -7.24699069e-03,  1.68982223e-02,  3.24197970e-02,\n",
       "         5.77761494e-02, -1.64338741e-02,  2.15213560e-02,\n",
       "         1.10807315e-01,  3.35674956e-02, -2.29124371e-02,\n",
       "        -1.17380247e-01, -4.72606160e-02,  1.36416769e-02,\n",
       "        -4.02555689e-02, -8.14790428e-02, -1.04594253e-01,\n",
       "        -4.54021320e-02, -5.66682331e-02, -8.74511711e-03,\n",
       "        -1.01608143e-03, -8.48198459e-02,  4.43098173e-02,\n",
       "        -1.17924539e-02,  5.22538312e-02,  1.97220631e-02,\n",
       "        -2.29643621e-02,  6.76636547e-02, -2.29653102e-04,\n",
       "        -1.70796402e-02,  2.42493413e-02, -6.07256927e-02,\n",
       "        -7.72173703e-02, -3.76901692e-33,  7.03912079e-02,\n",
       "        -6.27178922e-02, -5.23708500e-02,  8.27705190e-02,\n",
       "         6.69435933e-02,  9.43443831e-03, -2.74519175e-02,\n",
       "         8.96150917e-02, -1.66636370e-02,  3.70690525e-02,\n",
       "        -3.26420404e-02,  5.79916947e-02,  3.97815146e-02,\n",
       "         1.76288143e-01,  7.55938962e-02, -8.76702089e-03,\n",
       "        -7.59364739e-02, -1.65021583e-03, -2.14734604e-03,\n",
       "        -1.18747959e-02, -5.68338782e-02,  7.84453079e-02,\n",
       "         1.41715852e-03, -4.69165705e-02, -6.47728220e-02,\n",
       "         1.36845345e-02,  2.48491224e-02, -8.47704113e-02,\n",
       "        -5.42278811e-02,  5.77695668e-03, -7.97204077e-02,\n",
       "        -4.32245433e-02,  1.48780392e-02, -2.57773101e-02,\n",
       "         4.80234027e-02,  2.18775049e-02,  3.46254036e-02,\n",
       "        -4.77888472e-02, -2.93907393e-02, -2.14724950e-02,\n",
       "         3.87270339e-02, -2.33901944e-02, -1.12019358e-02,\n",
       "        -3.17179486e-02,  1.60218384e-02, -5.78898424e-03,\n",
       "         5.34965806e-02,  1.84446294e-02, -5.53772226e-02,\n",
       "        -7.40492111e-03,  3.22450511e-02,  3.61346938e-02,\n",
       "         1.30611695e-02, -7.67890438e-02,  5.18846475e-02,\n",
       "        -4.23807390e-02, -4.74147238e-02, -7.29575707e-03,\n",
       "        -5.41696092e-04, -5.90776727e-02, -3.60037237e-02,\n",
       "         2.55007185e-02,  3.39670107e-02, -1.11511545e-02,\n",
       "        -2.14723777e-02,  2.80708820e-02, -3.43650877e-02,\n",
       "        -5.22105545e-02,  7.55139142e-02,  4.58737202e-02,\n",
       "        -4.18700352e-02,  4.99340445e-02, -5.37403412e-02,\n",
       "        -6.42232643e-03, -8.42335522e-02, -5.21217997e-04,\n",
       "        -7.47940093e-02, -7.06397742e-02, -7.03077065e-03,\n",
       "         7.05542266e-02, -5.95430955e-02, -8.39971825e-02,\n",
       "        -6.16754778e-02, -1.37017891e-02, -8.04695487e-02,\n",
       "        -1.14292957e-01,  2.06244923e-02, -9.28382277e-02,\n",
       "         9.60015953e-02, -2.94228178e-02, -1.47392675e-02,\n",
       "         1.30324729e-03, -4.79281582e-02, -2.04780046e-02,\n",
       "         3.81353423e-02,  5.37662621e-34, -2.21947767e-02,\n",
       "         2.82932371e-02, -9.42409262e-02,  7.24191070e-02,\n",
       "        -9.06527415e-03,  5.55271693e-02, -4.64294478e-03,\n",
       "         4.36246432e-02, -6.15809299e-02,  1.31398737e-02,\n",
       "        -9.73430201e-02, -7.36925611e-03,  9.78014767e-02,\n",
       "        -5.11843152e-02, -2.94257477e-02, -3.38774733e-02,\n",
       "        -7.18020275e-02, -3.64181865e-03,  4.33201576e-03,\n",
       "        -2.63646478e-04,  1.61099527e-02,  1.58730187e-02,\n",
       "         4.07856107e-02,  3.86892222e-02,  1.21353105e-01,\n",
       "         1.19223610e-01,  5.98678039e-03, -7.05094486e-02,\n",
       "        -4.62252162e-02, -6.55253744e-03,  6.51754113e-03,\n",
       "        -6.01017810e-02, -3.42703052e-02,  3.52246012e-03,\n",
       "        -6.18943200e-02,  5.39523028e-02,  8.63686502e-02,\n",
       "         5.24331927e-02, -4.15602699e-02, -1.28620848e-01,\n",
       "         4.40800078e-02,  6.22334443e-02, -3.31842378e-02,\n",
       "         8.26311782e-02,  2.88407784e-03,  4.45818529e-03,\n",
       "        -1.00104116e-01,  1.60482507e-02,  7.29424655e-02,\n",
       "        -5.62787838e-02, -3.46683525e-02, -8.48184898e-03,\n",
       "        -8.94118194e-03, -1.56092979e-02,  1.89539399e-02,\n",
       "        -2.56353244e-02, -5.13570495e-02, -1.65969376e-02,\n",
       "         5.65907247e-02,  6.10047989e-02,  3.82412784e-02,\n",
       "        -7.53678679e-02,  1.23751517e-02, -1.16335917e-02,\n",
       "        -1.97816957e-02, -2.09003408e-02, -3.35381068e-02,\n",
       "         4.73786443e-02, -9.46169421e-02, -1.47053972e-02,\n",
       "         1.91762261e-02,  1.17265517e-02,  1.02806315e-02,\n",
       "        -1.97028499e-02,  2.92278193e-02, -1.61720645e-02,\n",
       "         6.36984929e-02,  3.41913626e-02,  1.36097390e-02,\n",
       "        -6.26364276e-02,  2.18832940e-02, -8.26581120e-02,\n",
       "         5.76420240e-02,  3.04144006e-02,  3.55501659e-02,\n",
       "         2.17531566e-02, -3.94358439e-03,  3.07307355e-02,\n",
       "         1.93097573e-02, -4.21732739e-02,  5.01963273e-02,\n",
       "         6.02019094e-02, -9.91171822e-02,  1.48755118e-01,\n",
       "         4.89825942e-02, -1.63803477e-08, -1.75262317e-02,\n",
       "         1.50375711e-02,  4.34561335e-02, -8.82430077e-02,\n",
       "        -8.39825869e-02, -2.49538943e-02,  5.20483032e-02,\n",
       "         2.35344190e-02, -1.32390764e-02, -1.49403103e-02,\n",
       "         5.77703230e-02,  5.07842517e-03, -4.03513163e-02,\n",
       "        -3.35274376e-02,  9.49107781e-02,  5.96333854e-02,\n",
       "        -2.88604498e-02, -1.70424692e-02,  1.74242947e-02,\n",
       "         5.71068563e-02, -5.31236874e-03,  7.07369372e-02,\n",
       "         3.36582772e-02,  7.48662231e-03, -5.02244942e-02,\n",
       "         6.92915218e-03, -1.48007721e-02,  5.77442944e-02,\n",
       "         6.37647361e-02,  3.76652218e-02,  3.85445505e-02,\n",
       "         1.08772531e-01,  1.45511245e-02, -6.25926405e-02,\n",
       "        -4.82245348e-02,  8.59488323e-02, -6.56537246e-03,\n",
       "        -8.91967192e-02, -7.05987662e-02, -4.63769883e-02,\n",
       "         2.75110621e-02, -4.89241108e-02,  1.83054172e-02,\n",
       "        -4.33417149e-02,  1.46190122e-01,  4.80694324e-02,\n",
       "         3.91188860e-02,  4.05750163e-02, -3.38741913e-02,\n",
       "         4.01833691e-02, -1.07097058e-02, -6.71055261e-03,\n",
       "        -2.30258219e-02,  2.19883751e-02, -2.53519937e-02,\n",
       "         1.76028125e-02,  4.72135283e-03, -6.65079476e-03,\n",
       "         2.31179669e-02, -8.92228622e-04, -5.26712164e-02,\n",
       "         2.77721100e-02,  9.61642712e-02,  7.67838256e-03]], dtype=float32)"
      ]
     },
     "execution_count": 8,
     "metadata": {},
     "output_type": "execute_result"
    }
   ],
   "execution_count": 8
  },
  {
   "metadata": {
    "ExecuteTime": {
     "end_time": "2025-03-29T18:07:33.504967Z",
     "start_time": "2025-03-29T18:07:33.499103Z"
    }
   },
   "cell_type": "code",
   "source": "embeddings.shape",
   "id": "879ba7fe1b133a73",
   "outputs": [
    {
     "data": {
      "text/plain": [
       "(1, 384)"
      ]
     },
     "execution_count": 9,
     "metadata": {},
     "output_type": "execute_result"
    }
   ],
   "execution_count": 9
  },
  {
   "metadata": {},
   "cell_type": "markdown",
   "source": "# Semantic search",
   "id": "de351608ca1bf929"
  },
  {
   "metadata": {},
   "cell_type": "code",
   "outputs": [],
   "execution_count": null,
   "source": [
    "from sentence_transformers import SentenceTransformer\n",
    "\n",
    "model_name = \"all-MiniLM-L6-v2\"\n",
    "encoder = SentenceTransformer(model_name)\n",
    "\n",
    "document_embeddings = encoder.encode(documents)\n",
    "\n",
    "query = \"what are the most recent wildlife articles?\"\n",
    "\n",
    "query_embeddings = encoder.encode([query])\n",
    "\n"
   ],
   "id": "9749a916b1b91e5a"
  },
  {
   "metadata": {},
   "cell_type": "code",
   "outputs": [],
   "execution_count": null,
   "source": [
    "from sentence_transformers import util\n",
    "\n",
    "hits = util.semantic_search(query_embeddings, document_embeddings, top_k=2)"
   ],
   "id": "d47d4fec8e717610"
  }
 ],
 "metadata": {
  "kernelspec": {
   "display_name": "Python 3",
   "language": "python",
   "name": "python3"
  },
  "language_info": {
   "codemirror_mode": {
    "name": "ipython",
    "version": 2
   },
   "file_extension": ".py",
   "mimetype": "text/x-python",
   "name": "python",
   "nbconvert_exporter": "python",
   "pygments_lexer": "ipython2",
   "version": "2.7.6"
  }
 },
 "nbformat": 4,
 "nbformat_minor": 5
}
