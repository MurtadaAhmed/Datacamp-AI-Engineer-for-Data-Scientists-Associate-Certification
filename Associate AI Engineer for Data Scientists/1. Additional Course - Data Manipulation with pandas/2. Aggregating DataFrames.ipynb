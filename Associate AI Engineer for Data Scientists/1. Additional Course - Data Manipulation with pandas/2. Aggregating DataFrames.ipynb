{
 "cells": [
  {
   "cell_type": "code",
   "id": "initial_id",
   "metadata": {
    "collapsed": true,
    "ExecuteTime": {
     "end_time": "2025-03-19T16:15:35.470209Z",
     "start_time": "2025-03-19T16:15:30.085254Z"
    }
   },
   "source": [
    "import numpy as np\n",
    "import pandas as pd\n",
    "dataset = \"datasets/sales_subset.csv\"\n",
    "sales_df = pd.read_csv(dataset)\n",
    "sales_df"
   ],
   "outputs": [
    {
     "data": {
      "text/plain": [
       "       Unnamed: 0  store type  department        date  weekly_sales  \\\n",
       "0               0      1    A           1  2010-02-05      24924.50   \n",
       "1               1      1    A           1  2010-03-05      21827.90   \n",
       "2               2      1    A           1  2010-04-02      57258.43   \n",
       "3               3      1    A           1  2010-05-07      17413.94   \n",
       "4               4      1    A           1  2010-06-04      17558.09   \n",
       "...           ...    ...  ...         ...         ...           ...   \n",
       "10769       10769     39    A          99  2011-12-09        895.00   \n",
       "10770       10770     39    A          99  2012-02-03        350.00   \n",
       "10771       10771     39    A          99  2012-06-08        450.00   \n",
       "10772       10772     39    A          99  2012-07-13          0.06   \n",
       "10773       10773     39    A          99  2012-10-05        915.00   \n",
       "\n",
       "       is_holiday  temperature_c  fuel_price_usd_per_l  unemployment  \n",
       "0           False       5.727778              0.679451         8.106  \n",
       "1           False       8.055556              0.693452         8.106  \n",
       "2           False      16.816667              0.718284         7.808  \n",
       "3           False      22.527778              0.748928         7.808  \n",
       "4           False      27.050000              0.714586         7.808  \n",
       "...           ...            ...                   ...           ...  \n",
       "10769       False       9.644444              0.834256         7.716  \n",
       "10770       False      15.938889              0.887619         7.244  \n",
       "10771       False      27.288889              0.911922         6.989  \n",
       "10772       False      25.644444              0.860145         6.623  \n",
       "10773       False      22.250000              0.955511         6.228  \n",
       "\n",
       "[10774 rows x 10 columns]"
      ],
      "text/html": [
       "<div>\n",
       "<style scoped>\n",
       "    .dataframe tbody tr th:only-of-type {\n",
       "        vertical-align: middle;\n",
       "    }\n",
       "\n",
       "    .dataframe tbody tr th {\n",
       "        vertical-align: top;\n",
       "    }\n",
       "\n",
       "    .dataframe thead th {\n",
       "        text-align: right;\n",
       "    }\n",
       "</style>\n",
       "<table border=\"1\" class=\"dataframe\">\n",
       "  <thead>\n",
       "    <tr style=\"text-align: right;\">\n",
       "      <th></th>\n",
       "      <th>Unnamed: 0</th>\n",
       "      <th>store</th>\n",
       "      <th>type</th>\n",
       "      <th>department</th>\n",
       "      <th>date</th>\n",
       "      <th>weekly_sales</th>\n",
       "      <th>is_holiday</th>\n",
       "      <th>temperature_c</th>\n",
       "      <th>fuel_price_usd_per_l</th>\n",
       "      <th>unemployment</th>\n",
       "    </tr>\n",
       "  </thead>\n",
       "  <tbody>\n",
       "    <tr>\n",
       "      <th>0</th>\n",
       "      <td>0</td>\n",
       "      <td>1</td>\n",
       "      <td>A</td>\n",
       "      <td>1</td>\n",
       "      <td>2010-02-05</td>\n",
       "      <td>24924.50</td>\n",
       "      <td>False</td>\n",
       "      <td>5.727778</td>\n",
       "      <td>0.679451</td>\n",
       "      <td>8.106</td>\n",
       "    </tr>\n",
       "    <tr>\n",
       "      <th>1</th>\n",
       "      <td>1</td>\n",
       "      <td>1</td>\n",
       "      <td>A</td>\n",
       "      <td>1</td>\n",
       "      <td>2010-03-05</td>\n",
       "      <td>21827.90</td>\n",
       "      <td>False</td>\n",
       "      <td>8.055556</td>\n",
       "      <td>0.693452</td>\n",
       "      <td>8.106</td>\n",
       "    </tr>\n",
       "    <tr>\n",
       "      <th>2</th>\n",
       "      <td>2</td>\n",
       "      <td>1</td>\n",
       "      <td>A</td>\n",
       "      <td>1</td>\n",
       "      <td>2010-04-02</td>\n",
       "      <td>57258.43</td>\n",
       "      <td>False</td>\n",
       "      <td>16.816667</td>\n",
       "      <td>0.718284</td>\n",
       "      <td>7.808</td>\n",
       "    </tr>\n",
       "    <tr>\n",
       "      <th>3</th>\n",
       "      <td>3</td>\n",
       "      <td>1</td>\n",
       "      <td>A</td>\n",
       "      <td>1</td>\n",
       "      <td>2010-05-07</td>\n",
       "      <td>17413.94</td>\n",
       "      <td>False</td>\n",
       "      <td>22.527778</td>\n",
       "      <td>0.748928</td>\n",
       "      <td>7.808</td>\n",
       "    </tr>\n",
       "    <tr>\n",
       "      <th>4</th>\n",
       "      <td>4</td>\n",
       "      <td>1</td>\n",
       "      <td>A</td>\n",
       "      <td>1</td>\n",
       "      <td>2010-06-04</td>\n",
       "      <td>17558.09</td>\n",
       "      <td>False</td>\n",
       "      <td>27.050000</td>\n",
       "      <td>0.714586</td>\n",
       "      <td>7.808</td>\n",
       "    </tr>\n",
       "    <tr>\n",
       "      <th>...</th>\n",
       "      <td>...</td>\n",
       "      <td>...</td>\n",
       "      <td>...</td>\n",
       "      <td>...</td>\n",
       "      <td>...</td>\n",
       "      <td>...</td>\n",
       "      <td>...</td>\n",
       "      <td>...</td>\n",
       "      <td>...</td>\n",
       "      <td>...</td>\n",
       "    </tr>\n",
       "    <tr>\n",
       "      <th>10769</th>\n",
       "      <td>10769</td>\n",
       "      <td>39</td>\n",
       "      <td>A</td>\n",
       "      <td>99</td>\n",
       "      <td>2011-12-09</td>\n",
       "      <td>895.00</td>\n",
       "      <td>False</td>\n",
       "      <td>9.644444</td>\n",
       "      <td>0.834256</td>\n",
       "      <td>7.716</td>\n",
       "    </tr>\n",
       "    <tr>\n",
       "      <th>10770</th>\n",
       "      <td>10770</td>\n",
       "      <td>39</td>\n",
       "      <td>A</td>\n",
       "      <td>99</td>\n",
       "      <td>2012-02-03</td>\n",
       "      <td>350.00</td>\n",
       "      <td>False</td>\n",
       "      <td>15.938889</td>\n",
       "      <td>0.887619</td>\n",
       "      <td>7.244</td>\n",
       "    </tr>\n",
       "    <tr>\n",
       "      <th>10771</th>\n",
       "      <td>10771</td>\n",
       "      <td>39</td>\n",
       "      <td>A</td>\n",
       "      <td>99</td>\n",
       "      <td>2012-06-08</td>\n",
       "      <td>450.00</td>\n",
       "      <td>False</td>\n",
       "      <td>27.288889</td>\n",
       "      <td>0.911922</td>\n",
       "      <td>6.989</td>\n",
       "    </tr>\n",
       "    <tr>\n",
       "      <th>10772</th>\n",
       "      <td>10772</td>\n",
       "      <td>39</td>\n",
       "      <td>A</td>\n",
       "      <td>99</td>\n",
       "      <td>2012-07-13</td>\n",
       "      <td>0.06</td>\n",
       "      <td>False</td>\n",
       "      <td>25.644444</td>\n",
       "      <td>0.860145</td>\n",
       "      <td>6.623</td>\n",
       "    </tr>\n",
       "    <tr>\n",
       "      <th>10773</th>\n",
       "      <td>10773</td>\n",
       "      <td>39</td>\n",
       "      <td>A</td>\n",
       "      <td>99</td>\n",
       "      <td>2012-10-05</td>\n",
       "      <td>915.00</td>\n",
       "      <td>False</td>\n",
       "      <td>22.250000</td>\n",
       "      <td>0.955511</td>\n",
       "      <td>6.228</td>\n",
       "    </tr>\n",
       "  </tbody>\n",
       "</table>\n",
       "<p>10774 rows × 10 columns</p>\n",
       "</div>"
      ]
     },
     "execution_count": 1,
     "metadata": {},
     "output_type": "execute_result"
    }
   ],
   "execution_count": 1
  },
  {
   "metadata": {},
   "cell_type": "markdown",
   "source": "# Mean / Median / Mode / Min / Max / Var / Std / Sum",
   "id": "cca2ff92cbb8c8b3"
  },
  {
   "metadata": {
    "ExecuteTime": {
     "end_time": "2025-03-19T16:23:15.059063Z",
     "start_time": "2025-03-19T16:23:15.048500Z"
    }
   },
   "cell_type": "code",
   "source": [
    "print(f'Mean: {sales_df[\"weekly_sales\"].mean()}')\n",
    "print(f'Median: {sales_df[\"weekly_sales\"].median()}')\n",
    "print(f'Mode: {sales_df[\"weekly_sales\"].mode()}')\n",
    "print(f'Min: {sales_df[\"weekly_sales\"].min()}')\n",
    "print(f'Max: {sales_df[\"weekly_sales\"].max()}')\n",
    "print(f'Var: {sales_df[\"weekly_sales\"].var()}')\n",
    "print(f'Std: {sales_df[\"weekly_sales\"].std()}')\n",
    "print(f'sum: {sales_df[\"weekly_sales\"].sum()}')"
   ],
   "id": "e88e44b240377484",
   "outputs": [
    {
     "name": "stdout",
     "output_type": "stream",
     "text": [
      "Mean: 23843.95014850566\n",
      "Median: 12049.064999999999\n",
      "Mode: 0    12.0\n",
      "Name: weekly_sales, dtype: float64\n",
      "Min: -1098.0\n",
      "Max: 293966.05\n",
      "Var: 913271824.0892733\n",
      "Std: 30220.387556900612\n",
      "sum: 256894718.89999998\n"
     ]
    }
   ],
   "execution_count": 10
  },
  {
   "metadata": {},
   "cell_type": "markdown",
   "source": "# Agg",
   "id": "703c75ce42a44e23"
  },
  {
   "metadata": {
    "ExecuteTime": {
     "end_time": "2025-03-19T16:29:26.812966Z",
     "start_time": "2025-03-19T16:29:26.801096Z"
    }
   },
   "cell_type": "code",
   "source": [
    "def pct30(column):\n",
    "    return column.quantile(0.3)\n",
    "\n",
    "sales_df[\"weekly_sales\"].agg(pct30)"
   ],
   "id": "1ac9d80b16abb96f",
   "outputs": [
    {
     "data": {
      "text/plain": [
       "np.float64(5128.481000000001)"
      ]
     },
     "execution_count": 11,
     "metadata": {},
     "output_type": "execute_result"
    }
   ],
   "execution_count": 11
  },
  {
   "metadata": {
    "ExecuteTime": {
     "end_time": "2025-03-19T16:31:06.255644Z",
     "start_time": "2025-03-19T16:31:06.242942Z"
    }
   },
   "cell_type": "code",
   "source": [
    "# padding multiple functions to Agg\n",
    "def pct40(column):\n",
    "    return column.quantile(0.4)\n",
    "sales_df[\"weekly_sales\"].agg([pct30,pct40])"
   ],
   "id": "5959f8b5f9a8ce7e",
   "outputs": [
    {
     "data": {
      "text/plain": [
       "pct30    5128.481\n",
       "pct40    8327.190\n",
       "Name: weekly_sales, dtype: float64"
      ]
     },
     "execution_count": 13,
     "metadata": {},
     "output_type": "execute_result"
    }
   ],
   "execution_count": 13
  },
  {
   "metadata": {},
   "cell_type": "markdown",
   "source": "# Cumulative sum",
   "id": "a7f978e4e3131f05"
  },
  {
   "metadata": {
    "ExecuteTime": {
     "end_time": "2025-03-19T16:32:23.639341Z",
     "start_time": "2025-03-19T16:32:23.630206Z"
    }
   },
   "cell_type": "code",
   "source": "sales_df[\"weekly_sales\"].cumsum()",
   "id": "67371e5936e1b9ed",
   "outputs": [
    {
     "data": {
      "text/plain": [
       "0        2.492450e+04\n",
       "1        4.675240e+04\n",
       "2        1.040108e+05\n",
       "3        1.214248e+05\n",
       "4        1.389829e+05\n",
       "             ...     \n",
       "10769    2.568930e+08\n",
       "10770    2.568934e+08\n",
       "10771    2.568938e+08\n",
       "10772    2.568938e+08\n",
       "10773    2.568947e+08\n",
       "Name: weekly_sales, Length: 10774, dtype: float64"
      ]
     },
     "execution_count": 14,
     "metadata": {},
     "output_type": "execute_result"
    }
   ],
   "execution_count": 14
  },
  {
   "metadata": {},
   "cell_type": "markdown",
   "source": "# Counting",
   "id": "38dfd4c3a105c6cb"
  },
  {
   "metadata": {},
   "cell_type": "code",
   "outputs": [],
   "execution_count": null,
   "source": [
    "# dataframe.drop_duplicates(subset=columnname) # remove the duplicates\n",
    "# dataframe[\"columnname\"].value_counts() # get the count of each element in the column\n",
    "# dataframe[\"columnname].value_counts(sort=True) # sort the counts in descending order\n",
    "# dataframe[\"columnname].value_counts(normalize=True) # convert the count into proportion of the total\n",
    "\n"
   ],
   "id": "48c2786c99a013c4"
  },
  {
   "metadata": {},
   "cell_type": "markdown",
   "source": "# Grouped summary statistics",
   "id": "cb9cd7cc03577b3b"
  },
  {
   "metadata": {
    "ExecuteTime": {
     "end_time": "2025-03-19T17:26:58.125747Z",
     "start_time": "2025-03-19T17:26:57.993954Z"
    }
   },
   "cell_type": "code",
   "source": [
    "# dataframe.groupby(\"coumnname\")[\"anothercoulm\"].mean()\n",
    "sales_df.groupby(\"store\")[\"weekly_sales\"].mean()"
   ],
   "id": "ed8032270214510f",
   "outputs": [
    {
     "data": {
      "text/plain": [
       "store\n",
       "1     20896.941787\n",
       "2     26517.435162\n",
       "4     26126.986071\n",
       "6     21561.186477\n",
       "10    25696.678370\n",
       "13    25664.149474\n",
       "14    30384.003017\n",
       "19    19930.838157\n",
       "20    28382.766385\n",
       "27    24207.474711\n",
       "31    18178.932225\n",
       "39    18414.938423\n",
       "Name: weekly_sales, dtype: float64"
      ]
     },
     "execution_count": 15,
     "metadata": {},
     "output_type": "execute_result"
    }
   ],
   "execution_count": 15
  },
  {
   "metadata": {
    "ExecuteTime": {
     "end_time": "2025-03-19T17:27:24.197516Z",
     "start_time": "2025-03-19T17:27:24.083280Z"
    }
   },
   "cell_type": "code",
   "source": "sales_df.groupby(\"store\")[\"weekly_sales\"].agg([min, max, sum])\n",
   "id": "e92b6be490a8237",
   "outputs": [
    {
     "name": "stderr",
     "output_type": "stream",
     "text": [
      "C:\\Users\\Murti\\AppData\\Local\\Temp\\ipykernel_19336\\2320737349.py:1: FutureWarning: The provided callable <built-in function min> is currently using SeriesGroupBy.min. In a future version of pandas, the provided callable will be used directly. To keep current behavior pass the string \"min\" instead.\n",
      "  sales_df.groupby(\"store\")[\"weekly_sales\"].agg([min, max, sum])\n",
      "C:\\Users\\Murti\\AppData\\Local\\Temp\\ipykernel_19336\\2320737349.py:1: FutureWarning: The provided callable <built-in function max> is currently using SeriesGroupBy.max. In a future version of pandas, the provided callable will be used directly. To keep current behavior pass the string \"max\" instead.\n",
      "  sales_df.groupby(\"store\")[\"weekly_sales\"].agg([min, max, sum])\n",
      "C:\\Users\\Murti\\AppData\\Local\\Temp\\ipykernel_19336\\2320737349.py:1: FutureWarning: The provided callable <built-in function sum> is currently using SeriesGroupBy.sum. In a future version of pandas, the provided callable will be used directly. To keep current behavior pass the string \"sum\" instead.\n",
      "  sales_df.groupby(\"store\")[\"weekly_sales\"].agg([min, max, sum])\n"
     ]
    },
    {
     "data": {
      "text/plain": [
       "          min        max          sum\n",
       "store                                \n",
       "1      -698.0  140504.41  18828144.55\n",
       "2     -1098.0  178982.89  23786139.34\n",
       "4       -88.0  165765.50  23540414.45\n",
       "6      -698.0  119812.38  19275700.71\n",
       "10     -798.0  232558.51  23178403.89\n",
       "13      -98.0  166872.27  23431368.47\n",
       "14     -498.0  293966.05  26889842.67\n",
       "19     -449.0  147449.06  18057339.37\n",
       "20     -598.0  195223.84  25828317.41\n",
       "27     -409.0  177605.86  21786727.24\n",
       "31     -224.0  131062.82  16179249.68\n",
       "39     -159.0  114691.10  16113071.12"
      ],
      "text/html": [
       "<div>\n",
       "<style scoped>\n",
       "    .dataframe tbody tr th:only-of-type {\n",
       "        vertical-align: middle;\n",
       "    }\n",
       "\n",
       "    .dataframe tbody tr th {\n",
       "        vertical-align: top;\n",
       "    }\n",
       "\n",
       "    .dataframe thead th {\n",
       "        text-align: right;\n",
       "    }\n",
       "</style>\n",
       "<table border=\"1\" class=\"dataframe\">\n",
       "  <thead>\n",
       "    <tr style=\"text-align: right;\">\n",
       "      <th></th>\n",
       "      <th>min</th>\n",
       "      <th>max</th>\n",
       "      <th>sum</th>\n",
       "    </tr>\n",
       "    <tr>\n",
       "      <th>store</th>\n",
       "      <th></th>\n",
       "      <th></th>\n",
       "      <th></th>\n",
       "    </tr>\n",
       "  </thead>\n",
       "  <tbody>\n",
       "    <tr>\n",
       "      <th>1</th>\n",
       "      <td>-698.0</td>\n",
       "      <td>140504.41</td>\n",
       "      <td>18828144.55</td>\n",
       "    </tr>\n",
       "    <tr>\n",
       "      <th>2</th>\n",
       "      <td>-1098.0</td>\n",
       "      <td>178982.89</td>\n",
       "      <td>23786139.34</td>\n",
       "    </tr>\n",
       "    <tr>\n",
       "      <th>4</th>\n",
       "      <td>-88.0</td>\n",
       "      <td>165765.50</td>\n",
       "      <td>23540414.45</td>\n",
       "    </tr>\n",
       "    <tr>\n",
       "      <th>6</th>\n",
       "      <td>-698.0</td>\n",
       "      <td>119812.38</td>\n",
       "      <td>19275700.71</td>\n",
       "    </tr>\n",
       "    <tr>\n",
       "      <th>10</th>\n",
       "      <td>-798.0</td>\n",
       "      <td>232558.51</td>\n",
       "      <td>23178403.89</td>\n",
       "    </tr>\n",
       "    <tr>\n",
       "      <th>13</th>\n",
       "      <td>-98.0</td>\n",
       "      <td>166872.27</td>\n",
       "      <td>23431368.47</td>\n",
       "    </tr>\n",
       "    <tr>\n",
       "      <th>14</th>\n",
       "      <td>-498.0</td>\n",
       "      <td>293966.05</td>\n",
       "      <td>26889842.67</td>\n",
       "    </tr>\n",
       "    <tr>\n",
       "      <th>19</th>\n",
       "      <td>-449.0</td>\n",
       "      <td>147449.06</td>\n",
       "      <td>18057339.37</td>\n",
       "    </tr>\n",
       "    <tr>\n",
       "      <th>20</th>\n",
       "      <td>-598.0</td>\n",
       "      <td>195223.84</td>\n",
       "      <td>25828317.41</td>\n",
       "    </tr>\n",
       "    <tr>\n",
       "      <th>27</th>\n",
       "      <td>-409.0</td>\n",
       "      <td>177605.86</td>\n",
       "      <td>21786727.24</td>\n",
       "    </tr>\n",
       "    <tr>\n",
       "      <th>31</th>\n",
       "      <td>-224.0</td>\n",
       "      <td>131062.82</td>\n",
       "      <td>16179249.68</td>\n",
       "    </tr>\n",
       "    <tr>\n",
       "      <th>39</th>\n",
       "      <td>-159.0</td>\n",
       "      <td>114691.10</td>\n",
       "      <td>16113071.12</td>\n",
       "    </tr>\n",
       "  </tbody>\n",
       "</table>\n",
       "</div>"
      ]
     },
     "execution_count": 16,
     "metadata": {},
     "output_type": "execute_result"
    }
   ],
   "execution_count": 16
  },
  {
   "metadata": {},
   "cell_type": "markdown",
   "source": "# Pivot tables",
   "id": "6d291620892490fe"
  },
  {
   "metadata": {
    "ExecuteTime": {
     "end_time": "2025-03-19T17:44:48.015823Z",
     "start_time": "2025-03-19T17:44:48.005278Z"
    }
   },
   "cell_type": "code",
   "source": "sales_df.groupby(\"store\")[\"weekly_sales\"].mean()",
   "id": "1193b7ee0f6f542a",
   "outputs": [
    {
     "data": {
      "text/plain": [
       "store\n",
       "1     20896.941787\n",
       "2     26517.435162\n",
       "4     26126.986071\n",
       "6     21561.186477\n",
       "10    25696.678370\n",
       "13    25664.149474\n",
       "14    30384.003017\n",
       "19    19930.838157\n",
       "20    28382.766385\n",
       "27    24207.474711\n",
       "31    18178.932225\n",
       "39    18414.938423\n",
       "Name: weekly_sales, dtype: float64"
      ]
     },
     "execution_count": 18,
     "metadata": {},
     "output_type": "execute_result"
    }
   ],
   "execution_count": 18
  },
  {
   "metadata": {
    "ExecuteTime": {
     "end_time": "2025-03-19T17:45:42.524720Z",
     "start_time": "2025-03-19T17:45:42.446813Z"
    }
   },
   "cell_type": "code",
   "source": "sales_df.pivot_table(values=\"weekly_sales\", index=\"store\")",
   "id": "7742e8ae61cb9158",
   "outputs": [
    {
     "data": {
      "text/plain": [
       "       weekly_sales\n",
       "store              \n",
       "1      20896.941787\n",
       "2      26517.435162\n",
       "4      26126.986071\n",
       "6      21561.186477\n",
       "10     25696.678370\n",
       "13     25664.149474\n",
       "14     30384.003017\n",
       "19     19930.838157\n",
       "20     28382.766385\n",
       "27     24207.474711\n",
       "31     18178.932225\n",
       "39     18414.938423"
      ],
      "text/html": [
       "<div>\n",
       "<style scoped>\n",
       "    .dataframe tbody tr th:only-of-type {\n",
       "        vertical-align: middle;\n",
       "    }\n",
       "\n",
       "    .dataframe tbody tr th {\n",
       "        vertical-align: top;\n",
       "    }\n",
       "\n",
       "    .dataframe thead th {\n",
       "        text-align: right;\n",
       "    }\n",
       "</style>\n",
       "<table border=\"1\" class=\"dataframe\">\n",
       "  <thead>\n",
       "    <tr style=\"text-align: right;\">\n",
       "      <th></th>\n",
       "      <th>weekly_sales</th>\n",
       "    </tr>\n",
       "    <tr>\n",
       "      <th>store</th>\n",
       "      <th></th>\n",
       "    </tr>\n",
       "  </thead>\n",
       "  <tbody>\n",
       "    <tr>\n",
       "      <th>1</th>\n",
       "      <td>20896.941787</td>\n",
       "    </tr>\n",
       "    <tr>\n",
       "      <th>2</th>\n",
       "      <td>26517.435162</td>\n",
       "    </tr>\n",
       "    <tr>\n",
       "      <th>4</th>\n",
       "      <td>26126.986071</td>\n",
       "    </tr>\n",
       "    <tr>\n",
       "      <th>6</th>\n",
       "      <td>21561.186477</td>\n",
       "    </tr>\n",
       "    <tr>\n",
       "      <th>10</th>\n",
       "      <td>25696.678370</td>\n",
       "    </tr>\n",
       "    <tr>\n",
       "      <th>13</th>\n",
       "      <td>25664.149474</td>\n",
       "    </tr>\n",
       "    <tr>\n",
       "      <th>14</th>\n",
       "      <td>30384.003017</td>\n",
       "    </tr>\n",
       "    <tr>\n",
       "      <th>19</th>\n",
       "      <td>19930.838157</td>\n",
       "    </tr>\n",
       "    <tr>\n",
       "      <th>20</th>\n",
       "      <td>28382.766385</td>\n",
       "    </tr>\n",
       "    <tr>\n",
       "      <th>27</th>\n",
       "      <td>24207.474711</td>\n",
       "    </tr>\n",
       "    <tr>\n",
       "      <th>31</th>\n",
       "      <td>18178.932225</td>\n",
       "    </tr>\n",
       "    <tr>\n",
       "      <th>39</th>\n",
       "      <td>18414.938423</td>\n",
       "    </tr>\n",
       "  </tbody>\n",
       "</table>\n",
       "</div>"
      ]
     },
     "execution_count": 19,
     "metadata": {},
     "output_type": "execute_result"
    }
   ],
   "execution_count": 19
  },
  {
   "metadata": {
    "ExecuteTime": {
     "end_time": "2025-03-19T17:46:42.580257Z",
     "start_time": "2025-03-19T17:46:42.543412Z"
    }
   },
   "cell_type": "code",
   "source": [
    "import numpy as np\n",
    "sales_df.pivot_table(values=\"weekly_sales\", index=\"store\", aggfunc=np.median)\n"
   ],
   "id": "47a8b118aaf9dc7f",
   "outputs": [
    {
     "name": "stderr",
     "output_type": "stream",
     "text": [
      "C:\\Users\\Murti\\AppData\\Local\\Temp\\ipykernel_19336\\4216066387.py:2: FutureWarning: The provided callable <function median at 0x0000029A3B56A5C0> is currently using DataFrameGroupBy.median. In a future version of pandas, the provided callable will be used directly. To keep current behavior pass the string \"median\" instead.\n",
      "  sales_df.pivot_table(values=\"weekly_sales\", index=\"store\", aggfunc=np.median)\n"
     ]
    },
    {
     "data": {
      "text/plain": [
       "       weekly_sales\n",
       "store              \n",
       "1          9775.170\n",
       "2         13764.940\n",
       "4         13063.930\n",
       "6         13200.780\n",
       "10        13336.080\n",
       "13        13050.060\n",
       "14        14792.990\n",
       "19        11091.770\n",
       "20        14706.675\n",
       "27        12689.850\n",
       "31         7787.725\n",
       "39         8980.720"
      ],
      "text/html": [
       "<div>\n",
       "<style scoped>\n",
       "    .dataframe tbody tr th:only-of-type {\n",
       "        vertical-align: middle;\n",
       "    }\n",
       "\n",
       "    .dataframe tbody tr th {\n",
       "        vertical-align: top;\n",
       "    }\n",
       "\n",
       "    .dataframe thead th {\n",
       "        text-align: right;\n",
       "    }\n",
       "</style>\n",
       "<table border=\"1\" class=\"dataframe\">\n",
       "  <thead>\n",
       "    <tr style=\"text-align: right;\">\n",
       "      <th></th>\n",
       "      <th>weekly_sales</th>\n",
       "    </tr>\n",
       "    <tr>\n",
       "      <th>store</th>\n",
       "      <th></th>\n",
       "    </tr>\n",
       "  </thead>\n",
       "  <tbody>\n",
       "    <tr>\n",
       "      <th>1</th>\n",
       "      <td>9775.170</td>\n",
       "    </tr>\n",
       "    <tr>\n",
       "      <th>2</th>\n",
       "      <td>13764.940</td>\n",
       "    </tr>\n",
       "    <tr>\n",
       "      <th>4</th>\n",
       "      <td>13063.930</td>\n",
       "    </tr>\n",
       "    <tr>\n",
       "      <th>6</th>\n",
       "      <td>13200.780</td>\n",
       "    </tr>\n",
       "    <tr>\n",
       "      <th>10</th>\n",
       "      <td>13336.080</td>\n",
       "    </tr>\n",
       "    <tr>\n",
       "      <th>13</th>\n",
       "      <td>13050.060</td>\n",
       "    </tr>\n",
       "    <tr>\n",
       "      <th>14</th>\n",
       "      <td>14792.990</td>\n",
       "    </tr>\n",
       "    <tr>\n",
       "      <th>19</th>\n",
       "      <td>11091.770</td>\n",
       "    </tr>\n",
       "    <tr>\n",
       "      <th>20</th>\n",
       "      <td>14706.675</td>\n",
       "    </tr>\n",
       "    <tr>\n",
       "      <th>27</th>\n",
       "      <td>12689.850</td>\n",
       "    </tr>\n",
       "    <tr>\n",
       "      <th>31</th>\n",
       "      <td>7787.725</td>\n",
       "    </tr>\n",
       "    <tr>\n",
       "      <th>39</th>\n",
       "      <td>8980.720</td>\n",
       "    </tr>\n",
       "  </tbody>\n",
       "</table>\n",
       "</div>"
      ]
     },
     "execution_count": 22,
     "metadata": {},
     "output_type": "execute_result"
    }
   ],
   "execution_count": 22
  },
  {
   "metadata": {},
   "cell_type": "code",
   "outputs": [],
   "execution_count": null,
   "source": "",
   "id": "de23bed91f21d0cf"
  }
 ],
 "metadata": {
  "kernelspec": {
   "display_name": "Python 3",
   "language": "python",
   "name": "python3"
  },
  "language_info": {
   "codemirror_mode": {
    "name": "ipython",
    "version": 2
   },
   "file_extension": ".py",
   "mimetype": "text/x-python",
   "name": "python",
   "nbconvert_exporter": "python",
   "pygments_lexer": "ipython2",
   "version": "2.7.6"
  }
 },
 "nbformat": 4,
 "nbformat_minor": 5
}
