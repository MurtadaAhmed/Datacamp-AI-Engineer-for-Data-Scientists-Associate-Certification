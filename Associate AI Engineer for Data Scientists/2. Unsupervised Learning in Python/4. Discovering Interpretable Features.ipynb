{
 "cells": [
  {
   "metadata": {},
   "cell_type": "markdown",
   "source": "NMF: non-negative matrix factorization",
   "id": "94bb8871448823b5"
  },
  {
   "metadata": {},
   "cell_type": "code",
   "outputs": [],
   "execution_count": null,
   "source": [
    "from sklearn.decomposition import NMF\n",
    "model = NMF(n_components=2)\n",
    "model.fit(sample)\n",
    "nmf_features = model.transform(samples)\n",
    "print(model.components_)"
   ],
   "id": "732a81aa48de0292"
  }
 ],
 "metadata": {
  "kernelspec": {
   "display_name": "Python 3",
   "language": "python",
   "name": "python3"
  },
  "language_info": {
   "codemirror_mode": {
    "name": "ipython",
    "version": 2
   },
   "file_extension": ".py",
   "mimetype": "text/x-python",
   "name": "python",
   "nbconvert_exporter": "python",
   "pygments_lexer": "ipython2",
   "version": "2.7.6"
  }
 },
 "nbformat": 4,
 "nbformat_minor": 5
}
