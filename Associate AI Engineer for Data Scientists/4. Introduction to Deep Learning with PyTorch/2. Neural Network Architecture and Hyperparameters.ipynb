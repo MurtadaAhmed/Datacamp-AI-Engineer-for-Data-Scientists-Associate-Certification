{
 "cells": [
  {
   "metadata": {},
   "cell_type": "markdown",
   "source": "# Discovering activation functions",
   "id": "c629a88fc8f1c0fb"
  },
  {
   "metadata": {
    "ExecuteTime": {
     "end_time": "2025-03-30T12:08:43.799784Z",
     "start_time": "2025-03-30T12:08:43.793355Z"
    }
   },
   "cell_type": "code",
   "source": [
    "from logging import critical\n",
    "\n",
    "# sigmoid >> for binary classification\n",
    "import torch\n",
    "import torch.nn as nn\n",
    "\n",
    "input_tensor = torch.tensor([[6]])\n",
    "\n",
    "sigmoid = nn.Sigmoid()\n",
    "\n",
    "output = sigmoid(input_tensor)\n",
    "\n",
    "output"
   ],
   "id": "7e220102f30f51d2",
   "outputs": [
    {
     "data": {
      "text/plain": [
       "tensor([[0.9975]])"
      ]
     },
     "execution_count": 3,
     "metadata": {},
     "output_type": "execute_result"
    }
   ],
   "execution_count": 3
  },
  {
   "metadata": {
    "ExecuteTime": {
     "end_time": "2025-03-30T12:19:45.892550Z",
     "start_time": "2025-03-30T12:19:45.875084Z"
    }
   },
   "cell_type": "code",
   "source": [
    "# softmax >> for multi class classification\n",
    "import torch\n",
    "import torch.nn as nn\n",
    "\n",
    "input_tensor = torch.tensor([[4.3, 6.1, 2.3]])\n",
    "\n",
    "probabilities = nn.Softmax(dim=-1)\n",
    "\n",
    "output = probabilities(input_tensor)\n",
    "\n",
    "output"
   ],
   "id": "2b46b47bb5a67548",
   "outputs": [
    {
     "data": {
      "text/plain": [
       "tensor([[0.1392, 0.8420, 0.0188]])"
      ]
     },
     "execution_count": 6,
     "metadata": {},
     "output_type": "execute_result"
    }
   ],
   "execution_count": 6
  },
  {
   "metadata": {},
   "cell_type": "markdown",
   "source": "# Running a forward pass",
   "id": "50de890d6d7697ff"
  },
  {
   "metadata": {},
   "cell_type": "markdown",
   "source": "# Using loss functions to assess model predictions",
   "id": "b15a7cd4b6955a9c"
  },
  {
   "metadata": {
    "ExecuteTime": {
     "end_time": "2025-03-30T12:42:07.511200Z",
     "start_time": "2025-03-30T12:42:07.378901Z"
    }
   },
   "cell_type": "code",
   "source": [
    "# transforming labels with one-hot encoding\n",
    "import torch.nn.functional as F\n",
    "\n",
    "F.one_hot(torch.tensor(0), num_classes=3)"
   ],
   "id": "1d090e09458eb65d",
   "outputs": [
    {
     "data": {
      "text/plain": [
       "tensor([1, 0, 0])"
      ]
     },
     "execution_count": 7,
     "metadata": {},
     "output_type": "execute_result"
    }
   ],
   "execution_count": 7
  },
  {
   "metadata": {
    "ExecuteTime": {
     "end_time": "2025-03-30T12:42:53.866929Z",
     "start_time": "2025-03-30T12:42:53.858474Z"
    }
   },
   "cell_type": "code",
   "source": "F.one_hot(torch.tensor(1), num_classes=3)",
   "id": "7a9dcb9064184637",
   "outputs": [
    {
     "data": {
      "text/plain": [
       "tensor([0, 1, 0])"
      ]
     },
     "execution_count": 8,
     "metadata": {},
     "output_type": "execute_result"
    }
   ],
   "execution_count": 8
  },
  {
   "metadata": {
    "ExecuteTime": {
     "end_time": "2025-03-30T12:43:03.265380Z",
     "start_time": "2025-03-30T12:43:03.241208Z"
    }
   },
   "cell_type": "code",
   "source": "F.one_hot(torch.tensor(2), num_classes=3)",
   "id": "4dfa3a70286d4802",
   "outputs": [
    {
     "data": {
      "text/plain": [
       "tensor([0, 0, 1])"
      ]
     },
     "execution_count": 10,
     "metadata": {},
     "output_type": "execute_result"
    }
   ],
   "execution_count": 10
  },
  {
   "metadata": {
    "ExecuteTime": {
     "end_time": "2025-03-30T12:46:46.604486Z",
     "start_time": "2025-03-30T12:46:46.593841Z"
    }
   },
   "cell_type": "code",
   "source": [
    "# cross entropy loss\n",
    "from torch.nn import CrossEntropyLoss\n",
    "\n",
    "scores = torch.tensor([-5.2, 4.6, 0.8])\n",
    "one_hot_target = torch.tensor([1, 0, 0])\n",
    "\n",
    "criterion = CrossEntropyLoss()\n",
    "\n",
    "criterion(scores.double(), one_hot_target.double())"
   ],
   "id": "421740502a9dbf7e",
   "outputs": [
    {
     "data": {
      "text/plain": [
       "tensor(9.8222, dtype=torch.float64)"
      ]
     },
     "execution_count": 12,
     "metadata": {},
     "output_type": "execute_result"
    }
   ],
   "execution_count": 12
  },
  {
   "metadata": {},
   "cell_type": "markdown",
   "source": "# Using derivatives to update model parameters",
   "id": "ba4ef713f2c376af"
  },
  {
   "metadata": {},
   "cell_type": "code",
   "outputs": [],
   "execution_count": null,
   "source": [
    "# SGD Stochastic gradient descent\n",
    "import torch.optim as optim\n",
    "\n",
    "optimizer = optim.SGD(model.parameters(), lr=0.001)\n",
    "\n",
    "# update parameters\n",
    "optimizer.step()"
   ],
   "id": "a5b266659a9a0a81"
  }
 ],
 "metadata": {
  "kernelspec": {
   "display_name": "Python 3",
   "language": "python",
   "name": "python3"
  },
  "language_info": {
   "codemirror_mode": {
    "name": "ipython",
    "version": 2
   },
   "file_extension": ".py",
   "mimetype": "text/x-python",
   "name": "python",
   "nbconvert_exporter": "python",
   "pygments_lexer": "ipython2",
   "version": "2.7.6"
  }
 },
 "nbformat": 4,
 "nbformat_minor": 5
}
