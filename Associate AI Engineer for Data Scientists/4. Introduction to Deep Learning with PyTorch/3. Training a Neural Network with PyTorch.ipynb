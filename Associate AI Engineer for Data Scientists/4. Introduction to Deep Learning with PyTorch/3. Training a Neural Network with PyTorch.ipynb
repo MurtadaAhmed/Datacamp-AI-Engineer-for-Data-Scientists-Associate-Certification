{
 "cells": [
  {
   "cell_type": "code",
   "id": "initial_id",
   "metadata": {
    "collapsed": true,
    "ExecuteTime": {
     "end_time": "2025-03-30T13:26:18.611051Z",
     "start_time": "2025-03-30T13:26:15.189465Z"
    }
   },
   "source": [
    "import pandas as pd\n",
    "import numpy as np\n",
    "import torch\n",
    "from torch.utils.data import TensorDataset\n",
    "from torch.utils.data import DataLoader\n",
    "\n",
    "animals = pd.read_csv(\"animal_dataset.csv\") # the dataset has animal_name as first column and type as last column(target)\n",
    "\n",
    "features = animals.iloc[:, 1:-1] # excluding the first column(animal_name) and last column(type)\n",
    "X = features.to_numpy() # converting it to numpy array\n",
    "\n",
    "target = animals.iloc[:, -1] # just the last column(type)\n",
    "y = target.to_numpy()\n",
    "\n",
    "dataset = TensorDataset(torch.tensor(X), torch.tensor(y))\n",
    "\n",
    "batch_size = 2\n",
    "shuffle = True\n",
    "\n",
    "dataloader = DataLoader(dataset, batch_size=batch_size, shuffle=shuffle)\n",
    "\n",
    "for batch_input, batch_labels in dataloader:\n",
    "    print(\"batch_input:\", batch_input)\n",
    "    print(\"batch_labels:\", batch_labels)\n",
    "\n"
   ],
   "outputs": [
    {
     "name": "stdout",
     "output_type": "stream",
     "text": [
      "batch_input: tensor([[0, 0, 1, 0, 1, 4, 1],\n",
      "        [1, 0, 0, 1, 0, 4, 1]])\n",
      "batch_labels: tensor([2, 1])\n",
      "batch_input: tensor([[0, 1, 1, 0, 1, 2, 1],\n",
      "        [1, 0, 0, 1, 1, 4, 1]])\n",
      "batch_labels: tensor([0, 1])\n",
      "batch_input: tensor([[0, 1, 1, 0, 0, 2, 1]])\n",
      "batch_labels: tensor([0])\n"
     ]
    }
   ],
   "execution_count": 1
  },
  {
   "metadata": {},
   "cell_type": "markdown",
   "source": "# Writing our first training loop",
   "id": "27df27d793626fbe"
  },
  {
   "metadata": {},
   "cell_type": "code",
   "outputs": [],
   "execution_count": null,
   "source": [
    "# regression problem, predicting the salary\n",
    "# MSE >> the mean of square difference between prediction and ground truth\n",
    "import torch.nn as nn\n",
    "from torch.utils.data import TensorDataset, DataLoader\n",
    "import torch.optim as optim\n",
    "\n",
    "features = \"\"\n",
    "targets = \"\"\n",
    "\n",
    "dataset = TensorDataset(torch.tensor(features).float(), torch.tensor(targets).float())\n",
    "\n",
    "dataloader = DataLoader(dataset, batch_size=4, shuffle=True)\n",
    "\n",
    "model = nn.Sequential(\n",
    "    nn.Linear(4, 2),\n",
    "    nn.Linear(2, 1)\n",
    ")\n",
    "\n",
    "criterion = nn.MSELoss()\n",
    "\n",
    "optimizer = optim.SGD(model.parameters(), lr=0.001)\n",
    "\n",
    "num_epochs = 20\n",
    "\n",
    "for epoch in range(num_epochs):\n",
    "    for data in dataloader:\n",
    "\n",
    "        # set the gradients to zero\n",
    "        optimizer.zero_grad()\n",
    "\n",
    "        feature, target = data\n",
    "\n",
    "        prediction = model(feature)\n",
    "\n",
    "        loss = criterion(prediction, target)\n",
    "\n",
    "        # compute the gradient\n",
    "        loss.backward()\n",
    "\n",
    "        # update model's parameter\n",
    "        optimizer.step()\n"
   ],
   "id": "fae7faf42c92e2cf"
  },
  {
   "metadata": {},
   "cell_type": "markdown",
   "source": "# ReLU activation functions",
   "id": "d758d02efdeda276"
  },
  {
   "metadata": {},
   "cell_type": "code",
   "outputs": [],
   "execution_count": null,
   "source": [
    "import torch.nn as nn\n",
    "\n",
    "relu = nn.ReLU()\n",
    "\n",
    "leaky_relu = nn.LeakyReLU(negative_slope=0.05)\n",
    "\n"
   ],
   "id": "2c7e73f791d381f6"
  },
  {
   "metadata": {},
   "cell_type": "markdown",
   "source": "# Learning rate and momentum",
   "id": "4d6262c1f645456c"
  },
  {
   "metadata": {},
   "cell_type": "code",
   "outputs": [],
   "execution_count": null,
   "source": [
    "import torch.optim as optim\n",
    "\n",
    "sgd = optim.SGD(model.parameters(), lr=0.01, momentum=0.95) # typical values for momentum ranges between 0.85 - 0.99\n"
   ],
   "id": "bf90cfeb8b6a6c07"
  }
 ],
 "metadata": {
  "kernelspec": {
   "display_name": "Python 3",
   "language": "python",
   "name": "python3"
  },
  "language_info": {
   "codemirror_mode": {
    "name": "ipython",
    "version": 2
   },
   "file_extension": ".py",
   "mimetype": "text/x-python",
   "name": "python",
   "nbconvert_exporter": "python",
   "pygments_lexer": "ipython2",
   "version": "2.7.6"
  }
 },
 "nbformat": 4,
 "nbformat_minor": 5
}
