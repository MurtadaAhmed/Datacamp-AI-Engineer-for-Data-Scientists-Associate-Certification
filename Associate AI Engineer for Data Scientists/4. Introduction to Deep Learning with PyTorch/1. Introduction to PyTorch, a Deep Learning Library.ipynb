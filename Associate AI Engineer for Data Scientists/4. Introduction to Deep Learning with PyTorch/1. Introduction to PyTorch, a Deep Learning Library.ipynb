{
 "cells": [
  {
   "cell_type": "code",
   "id": "initial_id",
   "metadata": {
    "collapsed": true,
    "ExecuteTime": {
     "end_time": "2025-03-30T11:27:57.711769Z",
     "start_time": "2025-03-30T11:27:57.703029Z"
    }
   },
   "source": [
    "import torch\n",
    "sample_list = [[1,2,3], [4, 5, 6]]\n",
    "tensor = torch.tensor(sample_list)\n",
    "print(tensor)\n",
    "print(tensor.shape)\n",
    "print(tensor.dtype)"
   ],
   "outputs": [
    {
     "name": "stdout",
     "output_type": "stream",
     "text": [
      "tensor([[1, 2, 3],\n",
      "        [4, 5, 6]])\n",
      "torch.Size([2, 3])\n",
      "torch.int64\n"
     ]
    }
   ],
   "execution_count": 3
  },
  {
   "metadata": {
    "ExecuteTime": {
     "end_time": "2025-03-30T11:29:27.521556Z",
     "start_time": "2025-03-30T11:29:27.441193Z"
    }
   },
   "cell_type": "code",
   "source": [
    "a = torch.tensor([[1, 1],\n",
    "                 [2, 2]])\n",
    "b = torch.tensor([[1, 1],\n",
    "                  [2, 2]])\n",
    "a + b"
   ],
   "id": "b802c55ddd6eda17",
   "outputs": [
    {
     "data": {
      "text/plain": [
       "tensor([[2, 2],\n",
       "        [4, 4]])"
      ]
     },
     "execution_count": 4,
     "metadata": {},
     "output_type": "execute_result"
    }
   ],
   "execution_count": 4
  },
  {
   "metadata": {
    "ExecuteTime": {
     "end_time": "2025-03-30T11:30:45.531829Z",
     "start_time": "2025-03-30T11:30:45.408853Z"
    }
   },
   "cell_type": "code",
   "source": "a * b",
   "id": "86f998a7ef261464",
   "outputs": [
    {
     "data": {
      "text/plain": [
       "tensor([[1, 1],\n",
       "        [4, 4]])"
      ]
     },
     "execution_count": 5,
     "metadata": {},
     "output_type": "execute_result"
    }
   ],
   "execution_count": 5
  },
  {
   "metadata": {
    "ExecuteTime": {
     "end_time": "2025-03-30T11:31:23.356797Z",
     "start_time": "2025-03-30T11:31:23.242383Z"
    }
   },
   "cell_type": "code",
   "source": "a @ b",
   "id": "ffe9739845262dee",
   "outputs": [
    {
     "data": {
      "text/plain": [
       "tensor([[3, 3],\n",
       "        [6, 6]])"
      ]
     },
     "execution_count": 6,
     "metadata": {},
     "output_type": "execute_result"
    }
   ],
   "execution_count": 6
  },
  {
   "metadata": {},
   "cell_type": "markdown",
   "source": "# Neural networks and layers",
   "id": "d1ad5ac6d70dfab"
  },
  {
   "metadata": {
    "ExecuteTime": {
     "end_time": "2025-03-30T11:43:01.709526Z",
     "start_time": "2025-03-30T11:43:01.696849Z"
    }
   },
   "cell_type": "code",
   "source": [
    "import torch.nn as nn\n",
    "input_tensor = torch.tensor([[.34, 0.45, -0.23]], dtype=torch.float32)\n",
    "linear_layer = nn.Linear(\n",
    "    in_features=3,\n",
    "    out_features=2\n",
    ")\n",
    "output = linear_layer(input_tensor)\n",
    "print(output.detach().numpy())\n",
    "print(f\"Weight: {linear_layer.weight}.\\nBias: {linear_layer.bias}\")"
   ],
   "id": "d1f4496a512d39c4",
   "outputs": [
    {
     "name": "stdout",
     "output_type": "stream",
     "text": [
      "[[ 0.49237207 -0.07752994]]\n",
      "Weight: Parameter containing:\n",
      "tensor([[ 0.4694,  0.3554,  0.5128],\n",
      "        [ 0.2109, -0.1955,  0.5712]], requires_grad=True).\n",
      "Bias: Parameter containing:\n",
      "tensor([0.2908, 0.0701], requires_grad=True)\n"
     ]
    }
   ],
   "execution_count": 15
  },
  {
   "metadata": {},
   "cell_type": "markdown",
   "source": "# Hidden layers and parameters",
   "id": "2506fddcd7469aa"
  },
  {
   "metadata": {
    "ExecuteTime": {
     "end_time": "2025-03-30T12:00:58.812788Z",
     "start_time": "2025-03-30T12:00:58.795219Z"
    }
   },
   "cell_type": "code",
   "source": [
    "import torch.nn as nn\n",
    "\n",
    "model = nn.Sequential(\n",
    "    nn.Linear(10, 8),\n",
    "    nn.Linear(8, 4),\n",
    "    nn.Linear(4, 2)\n",
    ")\n",
    "\n",
    "total_parameters = 0\n",
    "for parameter in model.parameters():\n",
    "    total_parameters += parameter.numel()\n",
    "\n",
    "total_parameters"
   ],
   "id": "6bffd1fbc64f60a1",
   "outputs": [
    {
     "data": {
      "text/plain": [
       "134"
      ]
     },
     "execution_count": 16,
     "metadata": {},
     "output_type": "execute_result"
    }
   ],
   "execution_count": 16
  },
  {
   "metadata": {},
   "cell_type": "code",
   "outputs": [],
   "execution_count": null,
   "source": "",
   "id": "14e654bd8563b2a6"
  }
 ],
 "metadata": {
  "kernelspec": {
   "display_name": "Python 3",
   "language": "python",
   "name": "python3"
  },
  "language_info": {
   "codemirror_mode": {
    "name": "ipython",
    "version": 2
   },
   "file_extension": ".py",
   "mimetype": "text/x-python",
   "name": "python",
   "nbconvert_exporter": "python",
   "pygments_lexer": "ipython2",
   "version": "2.7.6"
  }
 },
 "nbformat": 4,
 "nbformat_minor": 5
}
