{
 "cells": [
  {
   "metadata": {},
   "cell_type": "markdown",
   "source": "# Layer initialization and transfer learning",
   "id": "dc878891ffb36a3b"
  },
  {
   "metadata": {
    "ExecuteTime": {
     "end_time": "2025-03-30T14:22:40.292501Z",
     "start_time": "2025-03-30T14:22:40.281817Z"
    }
   },
   "cell_type": "code",
   "source": [
    "import torch.nn as nn\n",
    "\n",
    "layer = nn.Linear(64, 128)\n",
    "print(layer.weight.min())\n",
    "print(layer.weight.max())"
   ],
   "id": "57892af12cb33247",
   "outputs": [
    {
     "name": "stdout",
     "output_type": "stream",
     "text": [
      "tensor(-0.1250, grad_fn=<MinBackward1>)\n",
      "tensor(0.1249, grad_fn=<MaxBackward1>)\n"
     ]
    }
   ],
   "execution_count": 6
  },
  {
   "metadata": {
    "ExecuteTime": {
     "end_time": "2025-03-30T14:23:26.103598Z",
     "start_time": "2025-03-30T14:23:26.095560Z"
    }
   },
   "cell_type": "code",
   "source": [
    "import torch.nn as nn\n",
    "\n",
    "layer = nn.Linear(64, 128)\n",
    "nn.init.uniform_(layer.weight) # >> layer initialization\n",
    "print(layer.weight.min())\n",
    "print(layer.weight.max())"
   ],
   "id": "10e3f8349851b8be",
   "outputs": [
    {
     "name": "stdout",
     "output_type": "stream",
     "text": [
      "tensor(0.0006, grad_fn=<MinBackward1>)\n",
      "tensor(1.0000, grad_fn=<MaxBackward1>)\n"
     ]
    }
   ],
   "execution_count": 11
  },
  {
   "metadata": {
    "ExecuteTime": {
     "end_time": "2025-03-30T14:27:39.764903Z",
     "start_time": "2025-03-30T14:27:39.610383Z"
    }
   },
   "cell_type": "code",
   "source": [
    "# transfer learning\n",
    "import torch\n",
    "\n",
    "layer = nn.Linear(64, 128)\n",
    "torch.save(layer, \"layer.pth\")\n",
    "\n",
    "new_layer = torch.load(\"layer.pth\", weights_only=False)"
   ],
   "id": "e653c4986182b3fd",
   "outputs": [],
   "execution_count": 13
  },
  {
   "metadata": {},
   "cell_type": "code",
   "outputs": [],
   "execution_count": null,
   "source": [
    "# fine-tuning\n",
    "\n",
    "import torch.nn as nn\n",
    "\n",
    "model = nn.Sequential(\n",
    "    nn.Linear(64, 128),\n",
    "    nn.Linear(128, 256)\n",
    ")\n",
    "\n",
    "for name, param in model.named_parameters():\n",
    "    if name == \"0.weight\":\n",
    "        param.requires_grad = False"
   ],
   "id": "1678fb6955e56366"
  },
  {
   "metadata": {},
   "cell_type": "markdown",
   "source": [
    "# Evaluating model performance\n",
    "- Training set >> adjust model parameters (weight/bias)\n",
    "- Validation set >> tune hyperparameters (learning rate/momentum)\n",
    "- Test set >> evaluate model final performance"
   ],
   "id": "4877d918280d62b7"
  },
  {
   "metadata": {},
   "cell_type": "code",
   "outputs": [],
   "execution_count": null,
   "source": [
    "training_loss = 0.0\n",
    "for inputs, labels in trainloader:\n",
    "    outputs = model(input)\n",
    "    loss = criterion(outputs, labels)\n",
    "    loss.backward()\n",
    "    optimizer.step()\n",
    "    optimizer.zero_grad()\n",
    "\n",
    "    training_loss += loss.item()\n",
    "epoch_loss = training_loss/len(trainloader)\n",
    "\n",
    "# evaluation\n",
    "validation_loss = 0.0\n",
    "model.eval() # put the model on evaluation mode\n",
    "\n",
    "with torch.no_grad():\n",
    "    for inputs, labels in validationloader:\n",
    "        outputs = model(inputs)\n",
    "        loss = criterion(outputs, labels)\n",
    "        validation_loss += loss.item()\n",
    "evaluation_loss = validation_loss / len(validationloader)\n",
    "\n",
    "model.train() # to proceed with the training for the next epoch\n",
    "\n",
    "# when the model starts overfitting, training loss keeps decreasing, but the validation loss starts to rise"
   ],
   "id": "731a2146139c88bc"
  },
  {
   "metadata": {},
   "cell_type": "code",
   "outputs": [],
   "execution_count": null,
   "source": [
    "# calculate model accuracy\n",
    "import torchmetrics\n",
    "\n",
    "metric = torchmetrics.Accuracy(task=\"multiclass\", num_classes=3)\n",
    "\n",
    "for features, labels in dataloader:\n",
    "    outputs = model(features)\n",
    "    metric.update(outputs, labels.argmax(dim=-1))\n",
    "\n",
    "# at the end of each epoch calculcate the accuracey\n",
    "accuracy = metric.compute()\n",
    "\n",
    "# reset the metric for the next epoch\n",
    "metric.reset()"
   ],
   "id": "58586cb5f286f57e"
  },
  {
   "metadata": {},
   "cell_type": "markdown",
   "source": "# Fighting overfitting",
   "id": "337d14412465ca62"
  },
  {
   "metadata": {},
   "cell_type": "code",
   "outputs": [],
   "execution_count": null,
   "source": [
    "# 1. dropout layer\n",
    "model = nn.Sequential(\n",
    "    nn.Linear(8,4),\n",
    "    nn.ReLU(),\n",
    "    nn.Dropout(p=0.5) # p is the probability of the neuron being set to zero, in this case it is 50%\n",
    ")\n",
    "\n",
    "# 2. weight decay\n",
    "optimizer = optim.SGD(model.parameters(), lr=0.001, weight_decay=0.001)\n",
    "\n",
    "# 3. data augmentation"
   ],
   "id": "39b385fa87fbfaaa"
  },
  {
   "metadata": {},
   "cell_type": "markdown",
   "source": "# Improving model performance",
   "id": "569abdaf3c2dbf6d"
  },
  {
   "metadata": {},
   "cell_type": "code",
   "outputs": [],
   "execution_count": null,
   "source": "",
   "id": "71d124882b3f2126"
  }
 ],
 "metadata": {
  "kernelspec": {
   "display_name": "Python 3",
   "language": "python",
   "name": "python3"
  },
  "language_info": {
   "codemirror_mode": {
    "name": "ipython",
    "version": 2
   },
   "file_extension": ".py",
   "mimetype": "text/x-python",
   "name": "python",
   "nbconvert_exporter": "python",
   "pygments_lexer": "ipython2",
   "version": "2.7.6"
  }
 },
 "nbformat": 4,
 "nbformat_minor": 5
}
