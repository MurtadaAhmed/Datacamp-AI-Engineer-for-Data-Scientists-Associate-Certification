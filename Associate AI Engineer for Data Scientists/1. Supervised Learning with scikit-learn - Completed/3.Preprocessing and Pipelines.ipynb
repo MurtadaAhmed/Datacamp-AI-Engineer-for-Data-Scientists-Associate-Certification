{
 "cells": [
  {
   "metadata": {},
   "cell_type": "markdown",
   "source": [
    "\n",
    "\n",
    "# preprocessing data\n",
    "- to create dummy variables we can use scikit-learn OneHotEncoder or pandas get_dummies()\n",
    "- handle missing data"
   ],
   "id": "79ea2aaad26da99d"
  },
  {
   "metadata": {
    "ExecuteTime": {
     "end_time": "2025-03-16T15:26:15.149170Z",
     "start_time": "2025-03-16T15:26:15.135603Z"
    }
   },
   "cell_type": "code",
   "source": [
    "import pandas as pd\n",
    "dataset = \"datasets/music_clean.csv\"\n",
    "music_df = pd.read_csv(dataset)\n",
    "\n",
    "# this shows any missing data\n",
    "music_df.isna().sum().sort_values()\n",
    "\n",
    "# to remove missing data\n",
    "music_df = music_df.dropna(subset=[\"genre\", \"popularity\", \"loudness\", \"liveness\", \"tempo\"])\n",
    "\n",
    "music_df.isna().sum().sort_values()\n",
    "\n",
    "# another way is to impute the values by using the mean or the median or the non-missing values, and for categorical values we can use the most frequent value\n",
    "from sklearn.impute import SimpleImputer\n",
    "from sklearn.pipeline import Pipeline\n",
    "from sklearn.neighbors import KNeighborsClassifier\n",
    "\n",
    "# instantiate imputer\n",
    "imputer = SimpleImputer()\n",
    "\n",
    "# instantiate knn model\n",
    "knn = KNeighborsClassifier(n_neighbors=3)\n",
    "\n",
    "# build steps for the pipeline\n",
    "steps = [(\"imputer\", imputer),\n",
    "         (\"knn\", knn)]\n",
    "\n",
    "# create pipeline\n",
    "pipeline = Pipeline(steps)\n",
    "\n",
    "# fit the pipeline\n",
    "pipeline.fit(X_train, y_train)\n",
    "\n",
    "# make predictions\n",
    "y_pred = pipeline.predict(X_test)\n"
   ],
   "id": "52a8ee8b42aff87c",
   "outputs": [
    {
     "data": {
      "text/plain": [
       "Unnamed: 0          0\n",
       "popularity          0\n",
       "acousticness        0\n",
       "danceability        0\n",
       "duration_ms         0\n",
       "energy              0\n",
       "instrumentalness    0\n",
       "liveness            0\n",
       "loudness            0\n",
       "speechiness         0\n",
       "tempo               0\n",
       "valence             0\n",
       "genre               0\n",
       "dtype: int64"
      ]
     },
     "execution_count": 12,
     "metadata": {},
     "output_type": "execute_result"
    }
   ],
   "execution_count": 12
  },
  {
   "metadata": {},
   "cell_type": "markdown",
   "source": "## centering and scaling",
   "id": "1e457df883e2826a"
  },
  {
   "metadata": {
    "ExecuteTime": {
     "end_time": "2025-03-16T16:20:12.949286Z",
     "start_time": "2025-03-16T16:20:12.915536Z"
    }
   },
   "cell_type": "code",
   "source": [
    "import pandas as pd\n",
    "dataset = \"datasets/music_clean.csv\"\n",
    "music_df = pd.read_csv(dataset)\n",
    "\n",
    "music_df[[\"duration_ms\", \"loudness\", \"speechiness\"]].describe(())"
   ],
   "id": "172641aeca39f051",
   "outputs": [
    {
     "data": {
      "text/plain": [
       "        duration_ms     loudness  speechiness\n",
       "count  1.000000e+03  1000.000000  1000.000000\n",
       "mean   2.172204e+05    -8.253305     0.077879\n",
       "std    1.175582e+05     5.158523     0.089451\n",
       "min   -1.000000e+00   -38.718000     0.023400\n",
       "50%    2.163000e+05    -6.855000     0.043600\n",
       "max    1.617333e+06    -0.883000     0.710000"
      ],
      "text/html": [
       "<div>\n",
       "<style scoped>\n",
       "    .dataframe tbody tr th:only-of-type {\n",
       "        vertical-align: middle;\n",
       "    }\n",
       "\n",
       "    .dataframe tbody tr th {\n",
       "        vertical-align: top;\n",
       "    }\n",
       "\n",
       "    .dataframe thead th {\n",
       "        text-align: right;\n",
       "    }\n",
       "</style>\n",
       "<table border=\"1\" class=\"dataframe\">\n",
       "  <thead>\n",
       "    <tr style=\"text-align: right;\">\n",
       "      <th></th>\n",
       "      <th>duration_ms</th>\n",
       "      <th>loudness</th>\n",
       "      <th>speechiness</th>\n",
       "    </tr>\n",
       "  </thead>\n",
       "  <tbody>\n",
       "    <tr>\n",
       "      <th>count</th>\n",
       "      <td>1.000000e+03</td>\n",
       "      <td>1000.000000</td>\n",
       "      <td>1000.000000</td>\n",
       "    </tr>\n",
       "    <tr>\n",
       "      <th>mean</th>\n",
       "      <td>2.172204e+05</td>\n",
       "      <td>-8.253305</td>\n",
       "      <td>0.077879</td>\n",
       "    </tr>\n",
       "    <tr>\n",
       "      <th>std</th>\n",
       "      <td>1.175582e+05</td>\n",
       "      <td>5.158523</td>\n",
       "      <td>0.089451</td>\n",
       "    </tr>\n",
       "    <tr>\n",
       "      <th>min</th>\n",
       "      <td>-1.000000e+00</td>\n",
       "      <td>-38.718000</td>\n",
       "      <td>0.023400</td>\n",
       "    </tr>\n",
       "    <tr>\n",
       "      <th>50%</th>\n",
       "      <td>2.163000e+05</td>\n",
       "      <td>-6.855000</td>\n",
       "      <td>0.043600</td>\n",
       "    </tr>\n",
       "    <tr>\n",
       "      <th>max</th>\n",
       "      <td>1.617333e+06</td>\n",
       "      <td>-0.883000</td>\n",
       "      <td>0.710000</td>\n",
       "    </tr>\n",
       "  </tbody>\n",
       "</table>\n",
       "</div>"
      ]
     },
     "execution_count": 13,
     "metadata": {},
     "output_type": "execute_result"
    }
   ],
   "execution_count": 13
  },
  {
   "metadata": {
    "ExecuteTime": {
     "end_time": "2025-03-16T16:33:16.707996Z",
     "start_time": "2025-03-16T16:33:16.691441Z"
    }
   },
   "cell_type": "code",
   "source": [
    "from sklearn.preprocessing import StandardScaler\n",
    "from sklearn.model_selection import train_test_split\n",
    "import numpy as np\n",
    "\n",
    "# import the dataset\n",
    "dataset = \"datasets/music_clean.csv\"\n",
    "music_df = pd.read_csv(dataset)\n",
    "\n",
    "# create our features and target arrays\n",
    "X = music_df.drop(\"genre\", axis=1).values\n",
    "y = music_df[\"genre\"].values\n",
    "\n",
    "# splitting the data\n",
    "X_train, X_test, y_train, y_test = train_test_split(X, y, test_size=0.2, random_state=42)\n",
    "\n",
    "# instantiate standardscaler object\n",
    "scaler = StandardScaler()\n",
    "\n",
    "# pass the training dataset to the scaler fit_transform\n",
    "X_train_scaled = scaler.fit_transform(X_train)\n",
    "\n",
    "# pass the test dataset to the scaler transform\n",
    "X_test_scaled = scaler.fit(X_test)\n",
    "\n",
    "print(\"Original Data:\")\n",
    "print(f\"Mean: {np.mean(X)}, STD: {np.std(X)}\")\n",
    "print(\"\\nScaled Data:\")\n",
    "print(f\"Mean: {np.mean(X_train_scaled)}, STD: {np.std(X_train_scaled)}\")"
   ],
   "id": "56b365c89915829e",
   "outputs": [
    {
     "name": "stdout",
     "output_type": "stream",
     "text": [
      "Original Data:\n",
      "Mean: 20666.582585618085, STD: 68890.98734103922\n",
      "\n",
      "Scaled Data:\n",
      "Mean: 3.5971225997855074e-16, STD: 0.9999999999999996\n"
     ]
    }
   ],
   "execution_count": 15
  },
  {
   "metadata": {},
   "cell_type": "markdown",
   "source": "## Evaluating multiple models",
   "id": "c88bcd67243c5610"
  },
  {
   "metadata": {
    "ExecuteTime": {
     "end_time": "2025-03-16T17:18:06.313459Z",
     "start_time": "2025-03-16T17:18:05.478970Z"
    }
   },
   "cell_type": "code",
   "source": [
    "import matplotlib.pyplot as plt\n",
    "import pandas as pd\n",
    "from sklearn.preprocessing import StandardScaler\n",
    "from sklearn.model_selection import cross_val_score, KFold, train_test_split\n",
    "from sklearn.neighbors import KNeighborsClassifier\n",
    "from sklearn.linear_model import LogisticRegression\n",
    "from sklearn.tree import DecisionTreeClassifier\n",
    "\n",
    "# read the dataset\n",
    "dataset = \"datasets/music_clean.csv\"\n",
    "music_df = pd.read_csv(dataset)\n",
    "\n",
    "# get the features and the target\n",
    "X = music_df.drop(\"genre\", axis=1).values\n",
    "y = music_df[\"genre\"].values\n",
    "\n",
    "# splitting the dataset\n",
    "X_train, X_test, y_train, y_test = train_test_split(X, y, random_state=42)\n",
    "\n",
    "# initialize scaler\n",
    "scaler = StandardScaler()\n",
    "\n",
    "# perform scaler on train and test dataset\n",
    "X_train_scaled = scaler.fit_transform(X_train)\n",
    "X_test_scaled = scaler.transform(X_test)\n",
    "\n",
    "# create a dictionary with models names\n",
    "models = {\"Logistic Regression\": LogisticRegression(),\n",
    "          \"KNN\": KNeighborsClassifier(),\n",
    "          \"Decision Tree\": DecisionTreeClassifier()}\n",
    "\n",
    "# create a list to store the results\n",
    "results = []\n",
    "\n",
    "# looping through the models\n",
    "for model in models.values():\n",
    "    kf = KFold(n_splits=6, random_state=42, shuffle=True)\n",
    "    cv_results = cross_val_score(model, X_train_scaled, y_train, cv=kf)\n",
    "    results.append(cv_results)\n",
    "\n",
    "# plotting the results\n",
    "plt.boxplot(results, labels=models.keys())\n",
    "plt.show()\n",
    "\n",
    "# looping through the models to check the accuracy\n",
    "for name, model in models.items():\n",
    "    model.fit(X_train_scaled, y_train)\n",
    "    test_score = model.score(X_test_scaled, y_test)\n",
    "    print(f\"{name} Test Set Accuracy: {test_score}\")"
   ],
   "id": "139233b82a9fbedb",
   "outputs": [
    {
     "name": "stderr",
     "output_type": "stream",
     "text": [
      "C:\\Users\\Murti\\AppData\\Local\\Temp\\ipykernel_9156\\873619598.py:42: MatplotlibDeprecationWarning: The 'labels' parameter of boxplot() has been renamed 'tick_labels' since Matplotlib 3.9; support for the old name will be dropped in 3.11.\n",
      "  plt.boxplot(results, labels=models.keys())\n"
     ]
    },
    {
     "data": {
      "text/plain": [
       "<Figure size 640x480 with 1 Axes>"
      ],
      "image/png": "[encoded data removed]"
     },
     "metadata": {},
     "output_type": "display_data"
    },
    {
     "name": "stdout",
     "output_type": "stream",
     "text": [
      "Logistic Regression Test Set Accuracy: 0.864\n",
      "KNN Test Set Accuracy: 0.888\n",
      "Decision Tree Test Set Accuracy: 1.0\n"
     ]
    }
   ],
   "execution_count": 16
  },
  {
   "metadata": {},
   "cell_type": "code",
   "outputs": [],
   "execution_count": null,
   "source": "",
   "id": "723cc46c24b7aeac"
  }
 ],
 "metadata": {
  "kernelspec": {
   "display_name": "Python 3",
   "language": "python",
   "name": "python3"
  },
  "language_info": {
   "codemirror_mode": {
    "name": "ipython",
    "version": 2
   },
   "file_extension": ".py",
   "mimetype": "text/x-python",
   "name": "python",
   "nbconvert_exporter": "python",
   "pygments_lexer": "ipython2",
   "version": "2.7.6"
  }
 },
 "nbformat": 4,
 "nbformat_minor": 5
}
