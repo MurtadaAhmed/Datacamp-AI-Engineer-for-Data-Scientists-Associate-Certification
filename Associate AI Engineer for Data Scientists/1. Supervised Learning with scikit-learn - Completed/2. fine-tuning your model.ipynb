{
 "cells": [
  {
   "metadata": {},
   "cell_type": "markdown",
   "source": "## confusion matrix",
   "id": "2570bfa05cf2f767"
  },
  {
   "metadata": {
    "ExecuteTime": {
     "end_time": "2025-03-16T13:11:21.769948Z",
     "start_time": "2025-03-16T13:11:21.692640Z"
    }
   },
   "cell_type": "code",
   "source": [
    "import matplotlib.pyplot as plt\n",
    "from sklearn.metrics import classification_report, confusion_matrix, roc_curve\n",
    "import pandas as pd\n",
    "from sklearn.neighbors import KNeighborsClassifier\n",
    "from sklearn.model_selection import train_test_split\n",
    "\n",
    "dataset = \"datasets/telecom_churn_clean.csv\"\n",
    "churn_df = pd.read_csv(dataset)\n",
    "X = churn_df[[\"total_day_charge\", \"total_eve_charge\"]].values # return DataFrame (two-dimensional)\n",
    "y = churn_df[\"churn\"].values # return series\n",
    "\n",
    "# initialize the model with 7 neighbors\n",
    "knn = KNeighborsClassifier(n_neighbors=7)\n",
    "\n",
    "# split the dataset\n",
    "X_train, X_test, y_train, y_test = train_test_split(X, y, test_size=0.4, random_state=42)\n",
    "\n",
    "# fit the model\n",
    "knn.fit(X_train, y_train)\n",
    "\n",
    "# generate prediction\n",
    "y_predict = knn.predict(X_test)\n",
    "\n",
    "# print the confusion matrix\n",
    "print(f\"Confusion matrix:\\n{confusion_matrix(y_test, y_predict)}\")\n",
    "print(f\"\\nClassification report:\\n{classification_report(y_test, y_predict)}\")"
   ],
   "id": "2b20d02a03a0844d",
   "outputs": [
    {
     "name": "stdout",
     "output_type": "stream",
     "text": [
      "Confusion matrix:\n",
      "[[1111   27]\n",
      " [ 142   54]]\n",
      "\n",
      "Classification report:\n",
      "              precision    recall  f1-score   support\n",
      "\n",
      "           0       0.89      0.98      0.93      1138\n",
      "           1       0.67      0.28      0.39       196\n",
      "\n",
      "    accuracy                           0.87      1334\n",
      "   macro avg       0.78      0.63      0.66      1334\n",
      "weighted avg       0.85      0.87      0.85      1334\n",
      "\n"
     ]
    }
   ],
   "execution_count": 4
  },
  {
   "metadata": {},
   "cell_type": "markdown",
   "source": [
    "explanation for the results above:\n",
    "- confusion matrix:\n",
    "```\n",
    "\n",
    "\t                        Predicted: 0 (Not Churned)\tPredicted: 1 (Churned)\n",
    "Actual: 0 (Not Churned)\t    1111 (True Negatives) \t27 (False Positives)\n",
    "Actual: 1 (Churned)\t    142 (False Negatives) \t54 (True Positives)\n",
    "\n",
    "\n",
    "```"
   ],
   "id": "bd14b10192feea3b"
  },
  {
   "metadata": {},
   "cell_type": "markdown",
   "source": "## Logistic regression and the ROC curve",
   "id": "336eab49b38c46e9"
  },
  {
   "metadata": {
    "ExecuteTime": {
     "end_time": "2025-03-16T14:23:58.371624Z",
     "start_time": "2025-03-16T14:23:58.254601Z"
    }
   },
   "cell_type": "code",
   "source": [
    "from sklearn.linear_model import LogisticRegression\n",
    "import pandas as pd\n",
    "from sklearn.model_selection import train_test_split\n",
    "import matplotlib.pyplot as plt\n",
    "\n",
    "dataset = \"datasets/telecom_churn_clean.csv\"\n",
    "churn_df = pd.read_csv(dataset)\n",
    "X = churn_df[[\"total_day_charge\", \"total_eve_charge\"]].values # return DataFrame (two-dimensional)\n",
    "y = churn_df[\"churn\"].values # return series\n",
    "\n",
    "# split the dataset\n",
    "X_train, X_test, y_train, y_test = train_test_split(X, y, test_size=0.4, random_state=42)\n",
    "\n",
    "logreg = LogisticRegression()\n",
    "logreg.fit(X_train, y_train)\n",
    "print(f\"Logreg prediction: {logreg.predict(X_test)}\")\n",
    "y_pred_probs = logreg.predict_proba(X_test)[:, 1]\n",
    "print(f\"Logreg prediction prediction probabilities: {y_pred_probs[0]}\")\n",
    "\n",
    "# plotting ROC curve\n",
    "from sklearn.metrics import roc_curve\n",
    "\n",
    "fpr, tpr, thresholds = roc_curve(y_test, y_pred_probs)\n",
    "plt.plot([0, 1], [0, 1], \"k--\")\n",
    "plt.plot(fpr, tpr)\n",
    "plt.xlabel(\"False Positive Rate\")\n",
    "plt.ylabel(\"True Positive Rate\")\n",
    "plt.title(\"Logistic Regression ROC Curve\")\n",
    "plt.show()\n",
    "\n",
    "## RPC AUC\n",
    "from sklearn.metrics import roc_auc_score\n",
    "print(f\"ROC AUC Score: {roc_auc_score(y_test, y_pred_probs)}\")"
   ],
   "id": "542d36eb0dce0606",
   "outputs": [
    {
     "name": "stdout",
     "output_type": "stream",
     "text": [
      "Logreg prediction: [0 0 0 ... 0 0 0]\n",
      "Logreg prediction prediction probabilities: 0.19045733634408565\n"
     ]
    },
    {
     "data": {
      "text/plain": [
       "<Figure size 640x480 with 1 Axes>"
      ],
      "image/png": "[encoded data removed]"
     },
     "metadata": {},
     "output_type": "display_data"
    },
    {
     "name": "stdout",
     "output_type": "stream",
     "text": [
      "ROC AUC Score: 0.6761997417596213\n"
     ]
    }
   ],
   "execution_count": 14
  },
  {
   "metadata": {},
   "cell_type": "markdown",
   "source": "",
   "id": "2b7f31a87ce27511"
  },
  {
   "metadata": {},
   "cell_type": "markdown",
   "source": [
    "## Hyperparameter tuning\n",
    "- Grid search cross-validation"
   ],
   "id": "384cf2bdb3719519"
  },
  {
   "metadata": {
    "ExecuteTime": {
     "end_time": "2025-03-16T14:45:53.187829Z",
     "start_time": "2025-03-16T14:45:52.853684Z"
    }
   },
   "cell_type": "code",
   "source": [
    "from sklearn.model_selection import GridSearchCV, KFold, RandomizedSearchCV\n",
    "from sklearn.linear_model import Ridge\n",
    "\n",
    "import numpy as np\n",
    "\n",
    "kf = KFold(n_splits=6, shuffle=True, random_state=42)\n",
    "\n",
    "param_grid = {\"alpha\": np.linspace(0.0001, 1, 10),\n",
    "              \"solver\": [\"sag\", \"lsqr\"]}\n",
    "\n",
    "ridge = Ridge()\n",
    "ridge_cv = GridSearchCV(ridge, param_grid, cv=kf)\n",
    "ridge_cv.fit(X_train, y_train)\n",
    "\n",
    "print(f\"Best params Grid Search: {ridge_cv.best_params_}\")\n",
    "print(f\"Best score Grid Search: {ridge_cv.best_score_}\")\n",
    "\n",
    "\n",
    "# using RandomizedSearchCV\n",
    "ridge_random_cv = RandomizedSearchCV(ridge, param_grid, cv=kf, n_iter=2)\n",
    "ridge_random_cv.fit(X_train, y_train)\n",
    "print(f\"Best params Randomized Search: {ridge_random_cv.best_params_}\")\n",
    "print(f\"Best score Randomized Search: {ridge_random_cv.best_score_}\")\n",
    "print(f\"Test Set Score: {ridge_random_cv.score(X_test, y_test)}\")\n"
   ],
   "id": "27671abf652a6ed8",
   "outputs": [
    {
     "name": "stdout",
     "output_type": "stream",
     "text": [
      "Best params Grid Search: {'alpha': np.float64(0.2223), 'solver': 'sag'}\n",
      "Best score Grid Search: 0.03589833585831994\n",
      "Best params Randomized Search: {'solver': 'sag', 'alpha': np.float64(0.4445)}\n",
      "Best score Randomized Search: 0.035896995502242936\n",
      "Test Set Score: 0.0631378003485199\n"
     ]
    }
   ],
   "execution_count": 22
  }
 ],
 "metadata": {
  "kernelspec": {
   "display_name": "Python 3",
   "language": "python",
   "name": "python3"
  },
  "language_info": {
   "codemirror_mode": {
    "name": "ipython",
    "version": 2
   },
   "file_extension": ".py",
   "mimetype": "text/x-python",
   "name": "python",
   "nbconvert_exporter": "python",
   "pygments_lexer": "ipython2",
   "version": "2.7.6"
  }
 },
 "nbformat": 4,
 "nbformat_minor": 5
}
